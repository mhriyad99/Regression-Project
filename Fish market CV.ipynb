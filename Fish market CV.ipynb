{
 "cells": [
  {
   "cell_type": "markdown",
   "metadata": {},
   "source": [
    "# Fish market\n",
    "### Database of common fish species for fish market\n",
    "This dataset is a record of 7 common different fish species in fish market sales. With this dataset, a predictive model can be performed using machine friendly data and estimate the weight of fish can be predicted.\n",
    "\n",
    "Data link : https://www.kaggle.com/aungpyaeap/fish-market\n",
    "\n",
    "This data has been analysed and modeled by **Md. Mahmudul Hasan Riyad**.\n",
    "\n"
   ]
  },
  {
   "cell_type": "code",
   "execution_count": 1,
   "metadata": {},
   "outputs": [
    {
     "name": "stderr",
     "output_type": "stream",
     "text": [
      "C:\\Users\\Riyad\\Anaconda3\\lib\\site-packages\\statsmodels\\tools\\_testing.py:19: FutureWarning: pandas.util.testing is deprecated. Use the functions in the public API at pandas.testing instead.\n",
      "  import pandas.util.testing as tm\n"
     ]
    }
   ],
   "source": [
    "# Calling necessary packages\n",
    "import numpy as np\n",
    "import pandas as pd\n",
    "import matplotlib.pyplot as plt\n",
    "import seaborn as sns\n",
    "import scipy.stats as stats"
   ]
  },
  {
   "cell_type": "code",
   "execution_count": 2,
   "metadata": {},
   "outputs": [],
   "source": [
    "data = pd.read_csv(\"F:\\\\datasets\\\\Fish data\\\\fish.csv\")"
   ]
  },
  {
   "cell_type": "markdown",
   "metadata": {},
   "source": [
    "## Exploring Data"
   ]
  },
  {
   "cell_type": "code",
   "execution_count": 3,
   "metadata": {},
   "outputs": [
    {
     "data": {
      "text/html": [
       "<div>\n",
       "<style scoped>\n",
       "    .dataframe tbody tr th:only-of-type {\n",
       "        vertical-align: middle;\n",
       "    }\n",
       "\n",
       "    .dataframe tbody tr th {\n",
       "        vertical-align: top;\n",
       "    }\n",
       "\n",
       "    .dataframe thead th {\n",
       "        text-align: right;\n",
       "    }\n",
       "</style>\n",
       "<table border=\"1\" class=\"dataframe\">\n",
       "  <thead>\n",
       "    <tr style=\"text-align: right;\">\n",
       "      <th></th>\n",
       "      <th>Species</th>\n",
       "      <th>Weight</th>\n",
       "      <th>Length1</th>\n",
       "      <th>Length2</th>\n",
       "      <th>Length3</th>\n",
       "      <th>Height</th>\n",
       "      <th>Width</th>\n",
       "    </tr>\n",
       "  </thead>\n",
       "  <tbody>\n",
       "    <tr>\n",
       "      <th>0</th>\n",
       "      <td>Bream</td>\n",
       "      <td>242.0</td>\n",
       "      <td>23.2</td>\n",
       "      <td>25.4</td>\n",
       "      <td>30.0</td>\n",
       "      <td>11.5200</td>\n",
       "      <td>4.0200</td>\n",
       "    </tr>\n",
       "    <tr>\n",
       "      <th>1</th>\n",
       "      <td>Bream</td>\n",
       "      <td>290.0</td>\n",
       "      <td>24.0</td>\n",
       "      <td>26.3</td>\n",
       "      <td>31.2</td>\n",
       "      <td>12.4800</td>\n",
       "      <td>4.3056</td>\n",
       "    </tr>\n",
       "    <tr>\n",
       "      <th>2</th>\n",
       "      <td>Bream</td>\n",
       "      <td>340.0</td>\n",
       "      <td>23.9</td>\n",
       "      <td>26.5</td>\n",
       "      <td>31.1</td>\n",
       "      <td>12.3778</td>\n",
       "      <td>4.6961</td>\n",
       "    </tr>\n",
       "    <tr>\n",
       "      <th>3</th>\n",
       "      <td>Bream</td>\n",
       "      <td>363.0</td>\n",
       "      <td>26.3</td>\n",
       "      <td>29.0</td>\n",
       "      <td>33.5</td>\n",
       "      <td>12.7300</td>\n",
       "      <td>4.4555</td>\n",
       "    </tr>\n",
       "    <tr>\n",
       "      <th>4</th>\n",
       "      <td>Bream</td>\n",
       "      <td>430.0</td>\n",
       "      <td>26.5</td>\n",
       "      <td>29.0</td>\n",
       "      <td>34.0</td>\n",
       "      <td>12.4440</td>\n",
       "      <td>5.1340</td>\n",
       "    </tr>\n",
       "  </tbody>\n",
       "</table>\n",
       "</div>"
      ],
      "text/plain": [
       "  Species  Weight  Length1  Length2  Length3   Height   Width\n",
       "0   Bream   242.0     23.2     25.4     30.0  11.5200  4.0200\n",
       "1   Bream   290.0     24.0     26.3     31.2  12.4800  4.3056\n",
       "2   Bream   340.0     23.9     26.5     31.1  12.3778  4.6961\n",
       "3   Bream   363.0     26.3     29.0     33.5  12.7300  4.4555\n",
       "4   Bream   430.0     26.5     29.0     34.0  12.4440  5.1340"
      ]
     },
     "execution_count": 3,
     "metadata": {},
     "output_type": "execute_result"
    }
   ],
   "source": [
    "data.head()"
   ]
  },
  {
   "cell_type": "code",
   "execution_count": 4,
   "metadata": {},
   "outputs": [
    {
     "name": "stdout",
     "output_type": "stream",
     "text": [
      "<class 'pandas.core.frame.DataFrame'>\n",
      "RangeIndex: 159 entries, 0 to 158\n",
      "Data columns (total 7 columns):\n",
      " #   Column   Non-Null Count  Dtype  \n",
      "---  ------   --------------  -----  \n",
      " 0   Species  159 non-null    object \n",
      " 1   Weight   159 non-null    float64\n",
      " 2   Length1  159 non-null    float64\n",
      " 3   Length2  159 non-null    float64\n",
      " 4   Length3  159 non-null    float64\n",
      " 5   Height   159 non-null    float64\n",
      " 6   Width    159 non-null    float64\n",
      "dtypes: float64(6), object(1)\n",
      "memory usage: 8.8+ KB\n"
     ]
    }
   ],
   "source": [
    "data.info()"
   ]
  },
  {
   "cell_type": "code",
   "execution_count": 5,
   "metadata": {},
   "outputs": [
    {
     "data": {
      "text/plain": [
       "Species    0\n",
       "Weight     0\n",
       "Length1    0\n",
       "Length2    0\n",
       "Length3    0\n",
       "Height     0\n",
       "Width      0\n",
       "dtype: int64"
      ]
     },
     "execution_count": 5,
     "metadata": {},
     "output_type": "execute_result"
    }
   ],
   "source": [
    "data.isnull().sum()"
   ]
  },
  {
   "cell_type": "code",
   "execution_count": 6,
   "metadata": {},
   "outputs": [
    {
     "data": {
      "text/html": [
       "<div>\n",
       "<style scoped>\n",
       "    .dataframe tbody tr th:only-of-type {\n",
       "        vertical-align: middle;\n",
       "    }\n",
       "\n",
       "    .dataframe tbody tr th {\n",
       "        vertical-align: top;\n",
       "    }\n",
       "\n",
       "    .dataframe thead th {\n",
       "        text-align: right;\n",
       "    }\n",
       "</style>\n",
       "<table border=\"1\" class=\"dataframe\">\n",
       "  <thead>\n",
       "    <tr style=\"text-align: right;\">\n",
       "      <th></th>\n",
       "      <th>Weight</th>\n",
       "      <th>Length1</th>\n",
       "      <th>Length2</th>\n",
       "      <th>Length3</th>\n",
       "      <th>Height</th>\n",
       "      <th>Width</th>\n",
       "    </tr>\n",
       "  </thead>\n",
       "  <tbody>\n",
       "    <tr>\n",
       "      <th>count</th>\n",
       "      <td>159.000000</td>\n",
       "      <td>159.000000</td>\n",
       "      <td>159.000000</td>\n",
       "      <td>159.000000</td>\n",
       "      <td>159.000000</td>\n",
       "      <td>159.000000</td>\n",
       "    </tr>\n",
       "    <tr>\n",
       "      <th>mean</th>\n",
       "      <td>398.326415</td>\n",
       "      <td>26.247170</td>\n",
       "      <td>28.415723</td>\n",
       "      <td>31.227044</td>\n",
       "      <td>8.970994</td>\n",
       "      <td>4.417486</td>\n",
       "    </tr>\n",
       "    <tr>\n",
       "      <th>std</th>\n",
       "      <td>357.978317</td>\n",
       "      <td>9.996441</td>\n",
       "      <td>10.716328</td>\n",
       "      <td>11.610246</td>\n",
       "      <td>4.286208</td>\n",
       "      <td>1.685804</td>\n",
       "    </tr>\n",
       "    <tr>\n",
       "      <th>min</th>\n",
       "      <td>0.000000</td>\n",
       "      <td>7.500000</td>\n",
       "      <td>8.400000</td>\n",
       "      <td>8.800000</td>\n",
       "      <td>1.728400</td>\n",
       "      <td>1.047600</td>\n",
       "    </tr>\n",
       "    <tr>\n",
       "      <th>25%</th>\n",
       "      <td>120.000000</td>\n",
       "      <td>19.050000</td>\n",
       "      <td>21.000000</td>\n",
       "      <td>23.150000</td>\n",
       "      <td>5.944800</td>\n",
       "      <td>3.385650</td>\n",
       "    </tr>\n",
       "    <tr>\n",
       "      <th>50%</th>\n",
       "      <td>273.000000</td>\n",
       "      <td>25.200000</td>\n",
       "      <td>27.300000</td>\n",
       "      <td>29.400000</td>\n",
       "      <td>7.786000</td>\n",
       "      <td>4.248500</td>\n",
       "    </tr>\n",
       "    <tr>\n",
       "      <th>75%</th>\n",
       "      <td>650.000000</td>\n",
       "      <td>32.700000</td>\n",
       "      <td>35.500000</td>\n",
       "      <td>39.650000</td>\n",
       "      <td>12.365900</td>\n",
       "      <td>5.584500</td>\n",
       "    </tr>\n",
       "    <tr>\n",
       "      <th>max</th>\n",
       "      <td>1650.000000</td>\n",
       "      <td>59.000000</td>\n",
       "      <td>63.400000</td>\n",
       "      <td>68.000000</td>\n",
       "      <td>18.957000</td>\n",
       "      <td>8.142000</td>\n",
       "    </tr>\n",
       "  </tbody>\n",
       "</table>\n",
       "</div>"
      ],
      "text/plain": [
       "            Weight     Length1     Length2     Length3      Height       Width\n",
       "count   159.000000  159.000000  159.000000  159.000000  159.000000  159.000000\n",
       "mean    398.326415   26.247170   28.415723   31.227044    8.970994    4.417486\n",
       "std     357.978317    9.996441   10.716328   11.610246    4.286208    1.685804\n",
       "min       0.000000    7.500000    8.400000    8.800000    1.728400    1.047600\n",
       "25%     120.000000   19.050000   21.000000   23.150000    5.944800    3.385650\n",
       "50%     273.000000   25.200000   27.300000   29.400000    7.786000    4.248500\n",
       "75%     650.000000   32.700000   35.500000   39.650000   12.365900    5.584500\n",
       "max    1650.000000   59.000000   63.400000   68.000000   18.957000    8.142000"
      ]
     },
     "execution_count": 6,
     "metadata": {},
     "output_type": "execute_result"
    }
   ],
   "source": [
    "data.describe()"
   ]
  },
  {
   "cell_type": "code",
   "execution_count": 7,
   "metadata": {},
   "outputs": [
    {
     "data": {
      "image/png": "[encoded data removed]",
      "text/plain": [
       "<Figure size 576x360 with 1 Axes>"
      ]
     },
     "metadata": {
      "needs_background": "light"
     },
     "output_type": "display_data"
    }
   ],
   "source": [
    "plt.figure(figsize = (8,5))\n",
    "ax = sns.distplot(data['Weight'], kde = True)\n",
    "ax.margins(x= 0)\n"
   ]
  },
  {
   "cell_type": "code",
   "execution_count": 8,
   "metadata": {},
   "outputs": [
    {
     "data": {
      "text/plain": [
       "<matplotlib.axes._subplots.AxesSubplot at 0x1b76404d688>"
      ]
     },
     "execution_count": 8,
     "metadata": {},
     "output_type": "execute_result"
    },
    {
     "data": {
      "image/png": "[encoded data removed]",
      "text/plain": [
       "<Figure size 648x504 with 2 Axes>"
      ]
     },
     "metadata": {
      "needs_background": "light"
     },
     "output_type": "display_data"
    }
   ],
   "source": [
    "correlation = data.corr()\n",
    "plt.figure(figsize = (9,7))\n",
    "sns.heatmap(correlation, cmap = 'inferno', annot = True)"
   ]
  },
  {
   "cell_type": "markdown",
   "metadata": {},
   "source": [
    "The features in the data is highly correlated to each other"
   ]
  },
  {
   "cell_type": "code",
   "execution_count": 9,
   "metadata": {},
   "outputs": [
    {
     "data": {
      "text/plain": [
       "Perch        56\n",
       "Bream        35\n",
       "Roach        20\n",
       "Pike         17\n",
       "Smelt        14\n",
       "Parkki       11\n",
       "Whitefish     6\n",
       "Name: Species, dtype: int64"
      ]
     },
     "execution_count": 9,
     "metadata": {},
     "output_type": "execute_result"
    }
   ],
   "source": [
    "data['Species'].value_counts()"
   ]
  },
  {
   "cell_type": "code",
   "execution_count": 10,
   "metadata": {},
   "outputs": [
    {
     "data": {
      "text/plain": [
       "Weight     1.000000\n",
       "Length1    0.915712\n",
       "Length2    0.918618\n",
       "Length3    0.923044\n",
       "Height     0.724345\n",
       "Width      0.886507\n",
       "Name: Weight, dtype: float64"
      ]
     },
     "execution_count": 10,
     "metadata": {},
     "output_type": "execute_result"
    }
   ],
   "source": [
    "correlation['Weight']"
   ]
  },
  {
   "cell_type": "markdown",
   "metadata": {},
   "source": [
    "### Scaling the data "
   ]
  },
  {
   "cell_type": "code",
   "execution_count": 11,
   "metadata": {},
   "outputs": [],
   "source": [
    "from sklearn.preprocessing import StandardScaler\n",
    "scale = StandardScaler()\n",
    "data.iloc[:, 1:] = scale.fit_transform(data.iloc[:, 1:])"
   ]
  },
  {
   "cell_type": "markdown",
   "metadata": {},
   "source": [
    "### Rearranging and Spliting the data into Independent and Dependent features"
   ]
  },
  {
   "cell_type": "code",
   "execution_count": 12,
   "metadata": {},
   "outputs": [],
   "source": [
    "data = data[['Species','Length1','Length2','Length3','Height','Width','Weight']]\n",
    "X = data.iloc[:, :-1]\n",
    "y = data.iloc[:,-1]"
   ]
  },
  {
   "cell_type": "markdown",
   "metadata": {},
   "source": [
    "### Encoding data"
   ]
  },
  {
   "cell_type": "code",
   "execution_count": 13,
   "metadata": {},
   "outputs": [],
   "source": [
    "from sklearn.compose import ColumnTransformer\n",
    "from sklearn.preprocessing import OneHotEncoder\n",
    "ct=ColumnTransformer(transformers=[('encoder',OneHotEncoder(),[0])],remainder='passthrough')\n",
    "X= np.array(ct.fit_transform(X))\n"
   ]
  },
  {
   "cell_type": "code",
   "execution_count": 14,
   "metadata": {},
   "outputs": [
    {
     "data": {
      "text/plain": [
       "array([[ 1.        ,  0.        ,  0.        , ..., -0.10602023,\n",
       "         0.59657867, -0.23652895],\n",
       "       [ 1.        ,  0.        ,  0.        , ..., -0.00233668,\n",
       "         0.82126055, -0.06657895],\n",
       "       [ 1.        ,  0.        ,  0.        , ..., -0.01097698,\n",
       "         0.79734129,  0.16579317],\n",
       "       ...,\n",
       "       [ 0.        ,  0.        ,  0.        , ..., -1.50574813,\n",
       "        -1.56668655, -1.88140219],\n",
       "       [ 0.        ,  0.        ,  0.        , ..., -1.38478399,\n",
       "        -1.42724336, -1.39856804],\n",
       "       [ 0.        ,  0.        ,  0.        , ..., -1.29838103,\n",
       "        -1.41334117, -1.51043989]])"
      ]
     },
     "execution_count": 14,
     "metadata": {},
     "output_type": "execute_result"
    }
   ],
   "source": [
    "X"
   ]
  },
  {
   "cell_type": "markdown",
   "metadata": {},
   "source": [
    "### Spliting data into training and testing data"
   ]
  },
  {
   "cell_type": "code",
   "execution_count": 15,
   "metadata": {},
   "outputs": [],
   "source": [
    "from sklearn.model_selection import train_test_split\n",
    "\n",
    "X_train, X_test, y_train, y_test  = train_test_split(X, y, test_size = 0.2, random_state = 42)"
   ]
  },
  {
   "cell_type": "markdown",
   "metadata": {},
   "source": [
    "### Cross-validation and some fuction"
   ]
  },
  {
   "cell_type": "code",
   "execution_count": 16,
   "metadata": {},
   "outputs": [],
   "source": [
    "from sklearn.model_selection import cross_val_score\n",
    "from sklearn.model_selection import KFold\n",
    "folds = KFold(n_splits= 5, shuffle = False, random_state = 42)"
   ]
  },
  {
   "cell_type": "code",
   "execution_count": 17,
   "metadata": {},
   "outputs": [],
   "source": [
    "def display_rmse_score(mse):\n",
    "    rmse = np.sqrt(mse)\n",
    "    print(\"MSE_Scores: \", mse)\n",
    "    print(\"Mean Squared Error: \", mse.mean())\n",
    "    print(\"Root Mean Squared Error: \", rmse.mean())\n",
    "    print(\"RMSE Standard Deviation: \", rmse.std() )\n",
    "def display_mae_score(mae):\n",
    "    print(\"MAE_Scores: \", mae)\n",
    "    print(\"Mean Absolute Error: \", mae.mean())\n",
    "    print(\"MAE Standard Deviation: \", mae.std())"
   ]
  },
  {
   "cell_type": "markdown",
   "metadata": {},
   "source": [
    "## With Cross-Validation"
   ]
  },
  {
   "cell_type": "markdown",
   "metadata": {},
   "source": [
    "## Linear Regression"
   ]
  },
  {
   "cell_type": "code",
   "execution_count": 18,
   "metadata": {},
   "outputs": [],
   "source": [
    "from sklearn.linear_model import LinearRegression\n",
    "lin_reg = LinearRegression()\n",
    "lin_scores_mse = -cross_val_score(lin_reg, X_train, y_train, scoring = \"neg_mean_squared_error\",cv = 5)\n",
    "lin_scores_mae = -cross_val_score(lin_reg, X_train, y_train, scoring = \"neg_mean_absolute_error\",cv = 5)"
   ]
  },
  {
   "cell_type": "code",
   "execution_count": 19,
   "metadata": {},
   "outputs": [
    {
     "name": "stdout",
     "output_type": "stream",
     "text": [
      "MSE_Scores:  [0.04494472 0.08271634 0.08982744 0.1519829  0.07033374]\n",
      "Mean Squared Error:  0.08796102822370067\n",
      "Root Mean Squared Error:  0.2908746760775539\n",
      "RMSE Standard Deviation:  0.0579046720090764\n",
      "MAE_Scores:  [0.15217507 0.20148761 0.24692325 0.25196222 0.22311884]\n",
      "Mean Absolute Error:  0.21513339967430417\n",
      "MAE Standard Deviation:  0.03627859665705354\n"
     ]
    }
   ],
   "source": [
    "display_rmse_score(lin_scores_mse)\n",
    "display_mae_score(lin_scores_mae)"
   ]
  },
  {
   "cell_type": "markdown",
   "metadata": {},
   "source": [
    "## Polynomial Regression"
   ]
  },
  {
   "cell_type": "code",
   "execution_count": 20,
   "metadata": {},
   "outputs": [],
   "source": [
    "from sklearn.preprocessing import PolynomialFeatures\n",
    "poly_features = PolynomialFeatures(degree = 2, include_bias = True)\n",
    "X_poly = poly_features.fit_transform(X_train)"
   ]
  },
  {
   "cell_type": "code",
   "execution_count": 21,
   "metadata": {},
   "outputs": [],
   "source": [
    "from sklearn.linear_model import LinearRegression\n",
    "plin_reg = LinearRegression()\n",
    "plin_scores_mse = -cross_val_score(plin_reg, X_poly, y_train, scoring = \"neg_mean_squared_error\",cv = 5)\n",
    "plin_scores_mae = -cross_val_score(plin_reg, X_poly, y_train, scoring = \"neg_mean_absolute_error\",cv = 5)"
   ]
  },
  {
   "cell_type": "code",
   "execution_count": 22,
   "metadata": {},
   "outputs": [
    {
     "name": "stdout",
     "output_type": "stream",
     "text": [
      "MSE_Scores:  [0.03747651 0.05629294 0.02771582 0.04171997 0.12792714]\n",
      "Mean Squared Error:  0.05822647802772431\n",
      "Root Mean Squared Error:  0.23185085087364174\n",
      "RMSE Standard Deviation:  0.06687047911367647\n",
      "MAE_Scores:  [0.11720559 0.15398033 0.09739404 0.13567455 0.21801626]\n",
      "Mean Absolute Error:  0.14445415546430604\n",
      "MAE Standard Deviation:  0.041319127961548005\n"
     ]
    }
   ],
   "source": [
    "display_rmse_score(plin_scores_mse)\n",
    "display_mae_score(plin_scores_mae)"
   ]
  },
  {
   "cell_type": "markdown",
   "metadata": {},
   "source": [
    "## Support Vector Regression"
   ]
  },
  {
   "cell_type": "code",
   "execution_count": 23,
   "metadata": {},
   "outputs": [],
   "source": [
    "from sklearn.svm import SVR\n",
    "svr_reg = SVR(C = 2.0, epsilon = 0.2, gamma='scale')\n",
    "svr_scores_mse = -cross_val_score(svr_reg, X_train, y_train, scoring = \"neg_mean_squared_error\",cv = 5)\n",
    "svr_scores_mae = -cross_val_score(svr_reg, X_train, y_train, scoring = \"neg_mean_absolute_error\",cv = 5)"
   ]
  },
  {
   "cell_type": "code",
   "execution_count": 24,
   "metadata": {},
   "outputs": [
    {
     "name": "stdout",
     "output_type": "stream",
     "text": [
      "MSE_Scores:  [0.01766173 0.04010021 0.02646653 0.14017034 0.01764173]\n",
      "Mean Squared Error:  0.04840810716752071\n",
      "Root Mean Squared Error:  0.2006097269458338\n",
      "RMSE Standard Deviation:  0.09035399616087127\n",
      "MAE_Scores:  [0.11178996 0.15998893 0.11519815 0.21219059 0.10502817]\n",
      "Mean Absolute Error:  0.1408391580633254\n",
      "MAE Standard Deviation:  0.040599225997604065\n"
     ]
    }
   ],
   "source": [
    "display_rmse_score(svr_scores_mse)\n",
    "display_mae_score(svr_scores_mae)"
   ]
  },
  {
   "cell_type": "markdown",
   "metadata": {},
   "source": [
    "## Decision Tree Regressor"
   ]
  },
  {
   "cell_type": "code",
   "execution_count": 25,
   "metadata": {},
   "outputs": [],
   "source": [
    "from sklearn.tree import DecisionTreeRegressor\n",
    "tree_reg = DecisionTreeRegressor(min_samples_leaf =1, random_state = 42)\n",
    "tree_scores_mse = -cross_val_score(tree_reg, X_train, y_train, scoring = \"neg_mean_squared_error\",cv = 5)\n",
    "tree_scores_mae = -cross_val_score(tree_reg, X_train, y_train, scoring = \"neg_mean_absolute_error\",cv = 5)"
   ]
  },
  {
   "cell_type": "code",
   "execution_count": 26,
   "metadata": {},
   "outputs": [
    {
     "name": "stdout",
     "output_type": "stream",
     "text": [
      "MSE_Scores:  [0.01917588 0.05359227 0.02177059 0.07475185 0.02244812]\n",
      "Mean Squared Error:  0.03834774292991223\n",
      "Root Mean Squared Error:  0.18815209597235907\n",
      "RMSE Standard Deviation:  0.05428196487895783\n",
      "MAE_Scores:  [0.09752333 0.15794505 0.09262134 0.1935113  0.09210571]\n",
      "Mean Absolute Error:  0.1267413466144231\n",
      "MAE Standard Deviation:  0.04159180705658289\n"
     ]
    }
   ],
   "source": [
    "display_rmse_score(tree_scores_mse)\n",
    "display_mae_score(tree_scores_mae)"
   ]
  },
  {
   "cell_type": "markdown",
   "metadata": {},
   "source": [
    "## Random Forest Regressor"
   ]
  },
  {
   "cell_type": "code",
   "execution_count": 27,
   "metadata": {},
   "outputs": [],
   "source": [
    "from sklearn.ensemble import RandomForestRegressor\n",
    "rnd_reg = RandomForestRegressor(n_estimators = 100, random_state = 42)\n",
    "rnd_scores_mse = -cross_val_score(rnd_reg, X_train, y_train, scoring = \"neg_mean_squared_error\",cv = 5)\n",
    "rnd_scores_mae = -cross_val_score(rnd_reg, X_train, y_train, scoring = \"neg_mean_absolute_error\",cv = 5)\n"
   ]
  },
  {
   "cell_type": "code",
   "execution_count": 28,
   "metadata": {},
   "outputs": [
    {
     "name": "stdout",
     "output_type": "stream",
     "text": [
      "MSE_Scores:  [0.01278162 0.03527001 0.02399003 0.09437614 0.01689127]\n",
      "Mean Squared Error:  0.03666181538991815\n",
      "Root Mean Squared Error:  0.178583907047616\n",
      "RMSE Standard Deviation:  0.06906231630583057\n",
      "MAE_Scores:  [0.0803241  0.12175183 0.09015241 0.19349092 0.09147307]\n",
      "Mean Absolute Error:  0.11543846422612525\n",
      "MAE Standard Deviation:  0.0414217028860469\n"
     ]
    }
   ],
   "source": [
    "display_rmse_score(rnd_scores_mse)\n",
    "display_mae_score(rnd_scores_mae)"
   ]
  },
  {
   "cell_type": "markdown",
   "metadata": {},
   "source": [
    "## Impact Learning Regressor"
   ]
  },
  {
   "cell_type": "code",
   "execution_count": 38,
   "metadata": {},
   "outputs": [
    {
     "name": "stdout",
     "output_type": "stream",
     "text": [
      "Epoch: 500, train_loss: 0.190905, test_loss: 0.204120 \n",
      "Epoch: 1000, train_loss: 0.184135, test_loss: 0.157931 \n",
      "Epoch: 1500, train_loss: 0.184050, test_loss: 0.148790 \n",
      "Epoch: 2000, train_loss: 0.182840, test_loss: 0.176999 \n",
      "Epoch: 2500, train_loss: 0.180031, test_loss: 0.168124 \n",
      "Epoch: 3000, train_loss: 0.182906, test_loss: 0.178535 \n",
      "Epoch: 3500, train_loss: 0.179531, test_loss: 0.167795 \n",
      "Epoch: 4000, train_loss: 0.185512, test_loss: 0.185153 \n",
      "Training Completed\n"
     ]
    }
   ],
   "source": [
    "from ImpactLearning import Regressor\n",
    "il_reg = Regressor()\n",
    "il_reg.fit(X_train,y_train, X_test, y_test, loss_function=\"MAE\", optimizer = \"GD\",)\n",
    "il_reg.train(epochs=4000, lr=0.3, progress_per=500)"
   ]
  },
  {
   "cell_type": "code",
   "execution_count": 36,
   "metadata": {},
   "outputs": [
    {
     "name": "stdout",
     "output_type": "stream",
     "text": [
      "Epoch: 200, train_loss: 0.084497, test_loss: 0.077493 \n",
      "Epoch: 400, train_loss: 0.077701, test_loss: 0.066293 \n",
      "Epoch: 600, train_loss: 0.074738, test_loss: 0.062943 \n",
      "Epoch: 800, train_loss: 0.073234, test_loss: 0.061870 \n",
      "Epoch: 1000, train_loss: 0.072464, test_loss: 0.061602 \n",
      "Epoch: 1200, train_loss: 0.072064, test_loss: 0.061682 \n",
      "Epoch: 1400, train_loss: 0.071844, test_loss: 0.061900 \n",
      "Epoch: 1600, train_loss: 0.071711, test_loss: 0.062140 \n",
      "Epoch: 1800, train_loss: 0.071617, test_loss: 0.062348 \n",
      "Epoch: 2000, train_loss: 0.071542, test_loss: 0.062509 \n",
      "Epoch: 2200, train_loss: 0.071476, test_loss: 0.062624 \n",
      "Epoch: 2400, train_loss: 0.071416, test_loss: 0.062702 \n",
      "Epoch: 2600, train_loss: 0.071359, test_loss: 0.062751 \n",
      "Epoch: 2800, train_loss: 0.071304, test_loss: 0.062777 \n",
      "Epoch: 3000, train_loss: 0.071250, test_loss: 0.062788 \n",
      "Epoch: 3200, train_loss: 0.071199, test_loss: 0.062786 \n",
      "Epoch: 3400, train_loss: 0.071149, test_loss: 0.062775 \n",
      "Epoch: 3600, train_loss: 0.071100, test_loss: 0.062757 \n",
      "Epoch: 3800, train_loss: 0.071052, test_loss: 0.062733 \n",
      "Epoch: 4000, train_loss: 0.071006, test_loss: 0.062705 \n",
      "Epoch: 4200, train_loss: 0.070960, test_loss: 0.062673 \n",
      "Epoch: 4400, train_loss: 0.070916, test_loss: 0.062637 \n",
      "Epoch: 4600, train_loss: 0.070873, test_loss: 0.062599 \n",
      "Epoch: 4800, train_loss: 0.070830, test_loss: 0.062558 \n",
      "Epoch: 5000, train_loss: 0.070789, test_loss: 0.062516 \n",
      "Epoch: 5200, train_loss: 0.070748, test_loss: 0.062472 \n",
      "Epoch: 5400, train_loss: 0.070708, test_loss: 0.062426 \n",
      "Epoch: 5600, train_loss: 0.070669, test_loss: 0.062379 \n",
      "Epoch: 5800, train_loss: 0.070630, test_loss: 0.062330 \n",
      "Epoch: 6000, train_loss: 0.070593, test_loss: 0.062281 \n",
      "Epoch: 6200, train_loss: 0.070555, test_loss: 0.062230 \n",
      "Epoch: 6400, train_loss: 0.070519, test_loss: 0.062178 \n",
      "Epoch: 6600, train_loss: 0.070483, test_loss: 0.062126 \n",
      "Epoch: 6800, train_loss: 0.070448, test_loss: 0.062072 \n",
      "Epoch: 7000, train_loss: 0.070413, test_loss: 0.062018 \n",
      "Epoch: 7200, train_loss: 0.070379, test_loss: 0.061963 \n",
      "Epoch: 7400, train_loss: 0.070345, test_loss: 0.061908 \n",
      "Epoch: 7600, train_loss: 0.070312, test_loss: 0.061852 \n",
      "Epoch: 7800, train_loss: 0.070279, test_loss: 0.061795 \n",
      "Epoch: 8000, train_loss: 0.070247, test_loss: 0.061738 \n",
      "Epoch: 8200, train_loss: 0.070216, test_loss: 0.061680 \n",
      "Epoch: 8400, train_loss: 0.070184, test_loss: 0.061621 \n",
      "Epoch: 8600, train_loss: 0.070153, test_loss: 0.061562 \n",
      "Epoch: 8800, train_loss: 0.070123, test_loss: 0.061503 \n",
      "Epoch: 9000, train_loss: 0.070093, test_loss: 0.061443 \n",
      "Epoch: 9200, train_loss: 0.070064, test_loss: 0.061382 \n",
      "Epoch: 9400, train_loss: 0.070035, test_loss: 0.061321 \n",
      "Epoch: 9600, train_loss: 0.070006, test_loss: 0.061260 \n",
      "Epoch: 9800, train_loss: 0.069978, test_loss: 0.061198 \n",
      "Epoch: 10000, train_loss: 0.069950, test_loss: 0.061135 \n",
      "Training Completed\n"
     ]
    }
   ],
   "source": [
    "from ImpactLearning import Regressor\n",
    "il_reg = Regressor()\n",
    "il_reg.fit(X_train,y_train, X_test, y_test, loss_function=\"MSE\", optimizer = \"GD\",)\n",
    "il_reg.train(epochs=10000, lr=0.3, progress_per=200)"
   ]
  },
  {
   "cell_type": "code",
   "execution_count": null,
   "metadata": {},
   "outputs": [],
   "source": []
  }
 ],
 "metadata": {
  "kernelspec": {
   "display_name": "Python 3",
   "language": "python",
   "name": "python3"
  },
  "language_info": {
   "codemirror_mode": {
    "name": "ipython",
    "version": 3
   },
   "file_extension": ".py",
   "mimetype": "text/x-python",
   "name": "python",
   "nbconvert_exporter": "python",
   "pygments_lexer": "ipython3",
   "version": "3.7.4"
  }
 },
 "nbformat": 4,
 "nbformat_minor": 4
}
