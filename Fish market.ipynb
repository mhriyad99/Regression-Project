{
 "cells": [
  {
   "cell_type": "markdown",
   "metadata": {},
   "source": [
    "# Fish market\n",
    "### Database of common fish species for fish market\n",
    "This dataset is a record of 7 common different fish species in fish market sales. With this dataset, a predictive model can be performed using machine friendly data and estimate the weight of fish can be predicted.\n",
    "\n",
    "Data link : https://www.kaggle.com/aungpyaeap/fish-market\n",
    "\n",
    "This data has been analysed and modeled by **Md. Mahmudul Hasan Riyad**.\n",
    "\n"
   ]
  },
  {
   "cell_type": "code",
   "execution_count": 1,
   "metadata": {},
   "outputs": [
    {
     "name": "stderr",
     "output_type": "stream",
     "text": [
      "C:\\Users\\Riyad\\Anaconda3\\lib\\site-packages\\statsmodels\\tools\\_testing.py:19: FutureWarning: pandas.util.testing is deprecated. Use the functions in the public API at pandas.testing instead.\n",
      "  import pandas.util.testing as tm\n"
     ]
    }
   ],
   "source": [
    "# Calling necessary packages\n",
    "import numpy as np\n",
    "import pandas as pd\n",
    "import matplotlib.pyplot as plt\n",
    "import seaborn as sns\n",
    "import scipy.stats as stats\n",
    "from sklearn.metrics import mean_squared_error, mean_absolute_error\n",
    "%matplotlib inline"
   ]
  },
  {
   "cell_type": "code",
   "execution_count": 2,
   "metadata": {},
   "outputs": [],
   "source": [
    "data = pd.read_csv(\"F:\\\\datasets\\\\Fish data\\\\fish.csv\")"
   ]
  },
  {
   "cell_type": "markdown",
   "metadata": {},
   "source": [
    "## Exploring Data"
   ]
  },
  {
   "cell_type": "code",
   "execution_count": 3,
   "metadata": {},
   "outputs": [
    {
     "data": {
      "text/html": [
       "<div>\n",
       "<style scoped>\n",
       "    .dataframe tbody tr th:only-of-type {\n",
       "        vertical-align: middle;\n",
       "    }\n",
       "\n",
       "    .dataframe tbody tr th {\n",
       "        vertical-align: top;\n",
       "    }\n",
       "\n",
       "    .dataframe thead th {\n",
       "        text-align: right;\n",
       "    }\n",
       "</style>\n",
       "<table border=\"1\" class=\"dataframe\">\n",
       "  <thead>\n",
       "    <tr style=\"text-align: right;\">\n",
       "      <th></th>\n",
       "      <th>Species</th>\n",
       "      <th>Weight</th>\n",
       "      <th>Length1</th>\n",
       "      <th>Length2</th>\n",
       "      <th>Length3</th>\n",
       "      <th>Height</th>\n",
       "      <th>Width</th>\n",
       "    </tr>\n",
       "  </thead>\n",
       "  <tbody>\n",
       "    <tr>\n",
       "      <th>0</th>\n",
       "      <td>Bream</td>\n",
       "      <td>242.0</td>\n",
       "      <td>23.2</td>\n",
       "      <td>25.4</td>\n",
       "      <td>30.0</td>\n",
       "      <td>11.5200</td>\n",
       "      <td>4.0200</td>\n",
       "    </tr>\n",
       "    <tr>\n",
       "      <th>1</th>\n",
       "      <td>Bream</td>\n",
       "      <td>290.0</td>\n",
       "      <td>24.0</td>\n",
       "      <td>26.3</td>\n",
       "      <td>31.2</td>\n",
       "      <td>12.4800</td>\n",
       "      <td>4.3056</td>\n",
       "    </tr>\n",
       "    <tr>\n",
       "      <th>2</th>\n",
       "      <td>Bream</td>\n",
       "      <td>340.0</td>\n",
       "      <td>23.9</td>\n",
       "      <td>26.5</td>\n",
       "      <td>31.1</td>\n",
       "      <td>12.3778</td>\n",
       "      <td>4.6961</td>\n",
       "    </tr>\n",
       "    <tr>\n",
       "      <th>3</th>\n",
       "      <td>Bream</td>\n",
       "      <td>363.0</td>\n",
       "      <td>26.3</td>\n",
       "      <td>29.0</td>\n",
       "      <td>33.5</td>\n",
       "      <td>12.7300</td>\n",
       "      <td>4.4555</td>\n",
       "    </tr>\n",
       "    <tr>\n",
       "      <th>4</th>\n",
       "      <td>Bream</td>\n",
       "      <td>430.0</td>\n",
       "      <td>26.5</td>\n",
       "      <td>29.0</td>\n",
       "      <td>34.0</td>\n",
       "      <td>12.4440</td>\n",
       "      <td>5.1340</td>\n",
       "    </tr>\n",
       "  </tbody>\n",
       "</table>\n",
       "</div>"
      ],
      "text/plain": [
       "  Species  Weight  Length1  Length2  Length3   Height   Width\n",
       "0   Bream   242.0     23.2     25.4     30.0  11.5200  4.0200\n",
       "1   Bream   290.0     24.0     26.3     31.2  12.4800  4.3056\n",
       "2   Bream   340.0     23.9     26.5     31.1  12.3778  4.6961\n",
       "3   Bream   363.0     26.3     29.0     33.5  12.7300  4.4555\n",
       "4   Bream   430.0     26.5     29.0     34.0  12.4440  5.1340"
      ]
     },
     "execution_count": 3,
     "metadata": {},
     "output_type": "execute_result"
    }
   ],
   "source": [
    "data.head()"
   ]
  },
  {
   "cell_type": "code",
   "execution_count": 4,
   "metadata": {},
   "outputs": [
    {
     "name": "stdout",
     "output_type": "stream",
     "text": [
      "<class 'pandas.core.frame.DataFrame'>\n",
      "RangeIndex: 159 entries, 0 to 158\n",
      "Data columns (total 7 columns):\n",
      " #   Column   Non-Null Count  Dtype  \n",
      "---  ------   --------------  -----  \n",
      " 0   Species  159 non-null    object \n",
      " 1   Weight   159 non-null    float64\n",
      " 2   Length1  159 non-null    float64\n",
      " 3   Length2  159 non-null    float64\n",
      " 4   Length3  159 non-null    float64\n",
      " 5   Height   159 non-null    float64\n",
      " 6   Width    159 non-null    float64\n",
      "dtypes: float64(6), object(1)\n",
      "memory usage: 8.8+ KB\n"
     ]
    }
   ],
   "source": [
    "data.info()"
   ]
  },
  {
   "cell_type": "code",
   "execution_count": 5,
   "metadata": {},
   "outputs": [
    {
     "data": {
      "text/plain": [
       "Species    0\n",
       "Weight     0\n",
       "Length1    0\n",
       "Length2    0\n",
       "Length3    0\n",
       "Height     0\n",
       "Width      0\n",
       "dtype: int64"
      ]
     },
     "execution_count": 5,
     "metadata": {},
     "output_type": "execute_result"
    }
   ],
   "source": [
    "data.isnull().sum()"
   ]
  },
  {
   "cell_type": "code",
   "execution_count": 6,
   "metadata": {},
   "outputs": [
    {
     "data": {
      "text/html": [
       "<div>\n",
       "<style scoped>\n",
       "    .dataframe tbody tr th:only-of-type {\n",
       "        vertical-align: middle;\n",
       "    }\n",
       "\n",
       "    .dataframe tbody tr th {\n",
       "        vertical-align: top;\n",
       "    }\n",
       "\n",
       "    .dataframe thead th {\n",
       "        text-align: right;\n",
       "    }\n",
       "</style>\n",
       "<table border=\"1\" class=\"dataframe\">\n",
       "  <thead>\n",
       "    <tr style=\"text-align: right;\">\n",
       "      <th></th>\n",
       "      <th>Weight</th>\n",
       "      <th>Length1</th>\n",
       "      <th>Length2</th>\n",
       "      <th>Length3</th>\n",
       "      <th>Height</th>\n",
       "      <th>Width</th>\n",
       "    </tr>\n",
       "  </thead>\n",
       "  <tbody>\n",
       "    <tr>\n",
       "      <th>count</th>\n",
       "      <td>159.000000</td>\n",
       "      <td>159.000000</td>\n",
       "      <td>159.000000</td>\n",
       "      <td>159.000000</td>\n",
       "      <td>159.000000</td>\n",
       "      <td>159.000000</td>\n",
       "    </tr>\n",
       "    <tr>\n",
       "      <th>mean</th>\n",
       "      <td>398.326415</td>\n",
       "      <td>26.247170</td>\n",
       "      <td>28.415723</td>\n",
       "      <td>31.227044</td>\n",
       "      <td>8.970994</td>\n",
       "      <td>4.417486</td>\n",
       "    </tr>\n",
       "    <tr>\n",
       "      <th>std</th>\n",
       "      <td>357.978317</td>\n",
       "      <td>9.996441</td>\n",
       "      <td>10.716328</td>\n",
       "      <td>11.610246</td>\n",
       "      <td>4.286208</td>\n",
       "      <td>1.685804</td>\n",
       "    </tr>\n",
       "    <tr>\n",
       "      <th>min</th>\n",
       "      <td>0.000000</td>\n",
       "      <td>7.500000</td>\n",
       "      <td>8.400000</td>\n",
       "      <td>8.800000</td>\n",
       "      <td>1.728400</td>\n",
       "      <td>1.047600</td>\n",
       "    </tr>\n",
       "    <tr>\n",
       "      <th>25%</th>\n",
       "      <td>120.000000</td>\n",
       "      <td>19.050000</td>\n",
       "      <td>21.000000</td>\n",
       "      <td>23.150000</td>\n",
       "      <td>5.944800</td>\n",
       "      <td>3.385650</td>\n",
       "    </tr>\n",
       "    <tr>\n",
       "      <th>50%</th>\n",
       "      <td>273.000000</td>\n",
       "      <td>25.200000</td>\n",
       "      <td>27.300000</td>\n",
       "      <td>29.400000</td>\n",
       "      <td>7.786000</td>\n",
       "      <td>4.248500</td>\n",
       "    </tr>\n",
       "    <tr>\n",
       "      <th>75%</th>\n",
       "      <td>650.000000</td>\n",
       "      <td>32.700000</td>\n",
       "      <td>35.500000</td>\n",
       "      <td>39.650000</td>\n",
       "      <td>12.365900</td>\n",
       "      <td>5.584500</td>\n",
       "    </tr>\n",
       "    <tr>\n",
       "      <th>max</th>\n",
       "      <td>1650.000000</td>\n",
       "      <td>59.000000</td>\n",
       "      <td>63.400000</td>\n",
       "      <td>68.000000</td>\n",
       "      <td>18.957000</td>\n",
       "      <td>8.142000</td>\n",
       "    </tr>\n",
       "  </tbody>\n",
       "</table>\n",
       "</div>"
      ],
      "text/plain": [
       "            Weight     Length1     Length2     Length3      Height       Width\n",
       "count   159.000000  159.000000  159.000000  159.000000  159.000000  159.000000\n",
       "mean    398.326415   26.247170   28.415723   31.227044    8.970994    4.417486\n",
       "std     357.978317    9.996441   10.716328   11.610246    4.286208    1.685804\n",
       "min       0.000000    7.500000    8.400000    8.800000    1.728400    1.047600\n",
       "25%     120.000000   19.050000   21.000000   23.150000    5.944800    3.385650\n",
       "50%     273.000000   25.200000   27.300000   29.400000    7.786000    4.248500\n",
       "75%     650.000000   32.700000   35.500000   39.650000   12.365900    5.584500\n",
       "max    1650.000000   59.000000   63.400000   68.000000   18.957000    8.142000"
      ]
     },
     "execution_count": 6,
     "metadata": {},
     "output_type": "execute_result"
    }
   ],
   "source": [
    "data.describe()"
   ]
  },
  {
   "cell_type": "code",
   "execution_count": 7,
   "metadata": {},
   "outputs": [
    {
     "data": {
      "image/png": "[encoded data removed]",
      "text/plain": [
       "<Figure size 576x360 with 1 Axes>"
      ]
     },
     "metadata": {
      "needs_background": "light"
     },
     "output_type": "display_data"
    }
   ],
   "source": [
    "plt.figure(figsize = (8,5))\n",
    "ax = sns.distplot(data['Weight'], kde = True)\n",
    "ax.margins(x= 0)\n"
   ]
  },
  {
   "cell_type": "code",
   "execution_count": 8,
   "metadata": {},
   "outputs": [
    {
     "data": {
      "text/plain": [
       "<matplotlib.axes._subplots.AxesSubplot at 0x1fbb038ee88>"
      ]
     },
     "execution_count": 8,
     "metadata": {},
     "output_type": "execute_result"
    },
    {
     "data": {
      "image/png": "[encoded data removed]",
      "text/plain": [
       "<Figure size 648x504 with 2 Axes>"
      ]
     },
     "metadata": {
      "needs_background": "light"
     },
     "output_type": "display_data"
    }
   ],
   "source": [
    "correlation = data.corr()\n",
    "plt.figure(figsize = (9,7))\n",
    "sns.heatmap(correlation, cmap = 'inferno', annot = True)"
   ]
  },
  {
   "cell_type": "markdown",
   "metadata": {},
   "source": [
    "The features in the data is highly correlated to each other"
   ]
  },
  {
   "cell_type": "code",
   "execution_count": 9,
   "metadata": {},
   "outputs": [
    {
     "data": {
      "text/plain": [
       "Perch        56\n",
       "Bream        35\n",
       "Roach        20\n",
       "Pike         17\n",
       "Smelt        14\n",
       "Parkki       11\n",
       "Whitefish     6\n",
       "Name: Species, dtype: int64"
      ]
     },
     "execution_count": 9,
     "metadata": {},
     "output_type": "execute_result"
    }
   ],
   "source": [
    "data['Species'].value_counts()"
   ]
  },
  {
   "cell_type": "code",
   "execution_count": 10,
   "metadata": {},
   "outputs": [
    {
     "data": {
      "text/plain": [
       "Weight     1.000000\n",
       "Length1    0.915712\n",
       "Length2    0.918618\n",
       "Length3    0.923044\n",
       "Height     0.724345\n",
       "Width      0.886507\n",
       "Name: Weight, dtype: float64"
      ]
     },
     "execution_count": 10,
     "metadata": {},
     "output_type": "execute_result"
    }
   ],
   "source": [
    "correlation['Weight']"
   ]
  },
  {
   "cell_type": "markdown",
   "metadata": {},
   "source": [
    "### Scaling the data "
   ]
  },
  {
   "cell_type": "code",
   "execution_count": 11,
   "metadata": {},
   "outputs": [],
   "source": [
    "from sklearn.preprocessing import StandardScaler\n",
    "scale = StandardScaler()\n",
    "data.iloc[:, 1:] = scale.fit_transform(data.iloc[:, 1:])"
   ]
  },
  {
   "cell_type": "markdown",
   "metadata": {},
   "source": [
    "### Rearranging and Spliting the data into Independent and Dependent features"
   ]
  },
  {
   "cell_type": "code",
   "execution_count": 12,
   "metadata": {},
   "outputs": [],
   "source": [
    "data = data[['Species','Length1','Length2','Length3','Height','Width','Weight']]\n",
    "X = data.iloc[:, :-1]\n",
    "y = data.iloc[:,-1]"
   ]
  },
  {
   "cell_type": "markdown",
   "metadata": {},
   "source": [
    "### Encoding data"
   ]
  },
  {
   "cell_type": "code",
   "execution_count": 13,
   "metadata": {},
   "outputs": [],
   "source": [
    "from sklearn.compose import ColumnTransformer\n",
    "from sklearn.preprocessing import OneHotEncoder\n",
    "ct=ColumnTransformer(transformers=[('encoder',OneHotEncoder(),[0])],remainder='passthrough')\n",
    "X= np.array(ct.fit_transform(X))\n"
   ]
  },
  {
   "cell_type": "code",
   "execution_count": 14,
   "metadata": {},
   "outputs": [
    {
     "data": {
      "text/plain": [
       "array([[ 1.        ,  0.        ,  0.        , ..., -0.10602023,\n",
       "         0.59657867, -0.23652895],\n",
       "       [ 1.        ,  0.        ,  0.        , ..., -0.00233668,\n",
       "         0.82126055, -0.06657895],\n",
       "       [ 1.        ,  0.        ,  0.        , ..., -0.01097698,\n",
       "         0.79734129,  0.16579317],\n",
       "       ...,\n",
       "       [ 0.        ,  0.        ,  0.        , ..., -1.50574813,\n",
       "        -1.56668655, -1.88140219],\n",
       "       [ 0.        ,  0.        ,  0.        , ..., -1.38478399,\n",
       "        -1.42724336, -1.39856804],\n",
       "       [ 0.        ,  0.        ,  0.        , ..., -1.29838103,\n",
       "        -1.41334117, -1.51043989]])"
      ]
     },
     "execution_count": 14,
     "metadata": {},
     "output_type": "execute_result"
    }
   ],
   "source": [
    "X"
   ]
  },
  {
   "cell_type": "markdown",
   "metadata": {},
   "source": [
    "### Spliting data into training and testing data"
   ]
  },
  {
   "cell_type": "code",
   "execution_count": 15,
   "metadata": {},
   "outputs": [],
   "source": [
    "from sklearn.model_selection import train_test_split\n",
    "\n",
    "X_train, X_test, y_train, y_test  = train_test_split(X, y, test_size = 0.25, random_state = 42)"
   ]
  },
  {
   "cell_type": "code",
   "execution_count": null,
   "metadata": {},
   "outputs": [],
   "source": []
  },
  {
   "cell_type": "code",
   "execution_count": 16,
   "metadata": {},
   "outputs": [],
   "source": [
    "def display_scores(y_test, y_pred):\n",
    "    mse_loss = mean_squared_error(y_test, y_pred)\n",
    "    mae_loss = mean_absolute_error(y_test, y_pred)\n",
    "    rmse_loss = np.sqrt(mean_absolute_error(y_test, y_pred))\n",
    "    print('Maean Squared Error = ', mse_loss)\n",
    "    print(\"Mean Absolute Error = \", mae_loss)\n",
    "    print(\"Root Mean Squared Error = \", rmse_loss)"
   ]
  },
  {
   "cell_type": "markdown",
   "metadata": {},
   "source": [
    "## Linear Regression"
   ]
  },
  {
   "cell_type": "code",
   "execution_count": 17,
   "metadata": {},
   "outputs": [
    {
     "data": {
      "text/plain": [
       "LinearRegression(copy_X=True, fit_intercept=True, n_jobs=None, normalize=False)"
      ]
     },
     "execution_count": 17,
     "metadata": {},
     "output_type": "execute_result"
    }
   ],
   "source": [
    "from sklearn.linear_model import LinearRegression\n",
    "lin_reg = LinearRegression()\n",
    "lin_reg.fit(X_train, y_train)"
   ]
  },
  {
   "cell_type": "code",
   "execution_count": 18,
   "metadata": {},
   "outputs": [],
   "source": [
    "y_pred_lin = lin_reg.predict(X_test)"
   ]
  },
  {
   "cell_type": "code",
   "execution_count": 19,
   "metadata": {},
   "outputs": [
    {
     "name": "stdout",
     "output_type": "stream",
     "text": [
      "Maean Squared Error =  0.052940491664053554\n",
      "Mean Absolute Error =  0.1783790816381008\n",
      "Root Mean Squared Error =  0.4223494780843239\n"
     ]
    }
   ],
   "source": [
    "display_scores(y_test, y_pred_lin)"
   ]
  },
  {
   "cell_type": "code",
   "execution_count": 20,
   "metadata": {},
   "outputs": [
    {
     "name": "stdout",
     "output_type": "stream",
     "text": [
      "r2 score: 0.9482958230393606\n"
     ]
    }
   ],
   "source": [
    "from sklearn.metrics import r2_score\n",
    "print('r2 score:',r2_score(y_test,y_pred_lin))"
   ]
  },
  {
   "cell_type": "code",
   "execution_count": 21,
   "metadata": {},
   "outputs": [
    {
     "data": {
      "text/plain": [
       "Text(0, 0.5, 'True values')"
      ]
     },
     "execution_count": 21,
     "metadata": {},
     "output_type": "execute_result"
    },
    {
     "data": {
      "image/png": "[encoded data removed]",
      "text/plain": [
       "<Figure size 432x288 with 1 Axes>"
      ]
     },
     "metadata": {
      "needs_background": "light"
     },
     "output_type": "display_data"
    }
   ],
   "source": [
    "plt.scatter(y_pred_lin, y_test)\n",
    "plt.xlabel('Predictions')\n",
    "plt.ylabel('True values')"
   ]
  },
  {
   "cell_type": "code",
   "execution_count": 22,
   "metadata": {},
   "outputs": [
    {
     "name": "stdout",
     "output_type": "stream",
     "text": [
      "0.009743999584228355\n",
      "[-0.11224795  0.28359658  0.05930039 -1.04055694 -0.00862592  0.81291934\n",
      "  0.0056145  -1.93853573  2.16862658  1.05869913 -0.11583186  0.02094641]\n"
     ]
    }
   ],
   "source": [
    "print(lin_reg.intercept_)\n",
    "print(lin_reg.coef_)"
   ]
  },
  {
   "cell_type": "markdown",
   "metadata": {},
   "source": [
    "## Polynomial Regression "
   ]
  },
  {
   "cell_type": "code",
   "execution_count": 23,
   "metadata": {},
   "outputs": [],
   "source": [
    "from sklearn.preprocessing import PolynomialFeatures\n",
    "poly_features = PolynomialFeatures(degree = 2, include_bias = True)\n",
    "X_poly = poly_features.fit_transform(X_train)"
   ]
  },
  {
   "cell_type": "code",
   "execution_count": 24,
   "metadata": {},
   "outputs": [
    {
     "data": {
      "text/plain": [
       "LinearRegression(copy_X=True, fit_intercept=True, n_jobs=None, normalize=False)"
      ]
     },
     "execution_count": 24,
     "metadata": {},
     "output_type": "execute_result"
    }
   ],
   "source": [
    "from sklearn.linear_model import LinearRegression\n",
    "plin_reg = LinearRegression()\n",
    "plin_reg.fit(X_poly, y_train)"
   ]
  },
  {
   "cell_type": "code",
   "execution_count": 25,
   "metadata": {},
   "outputs": [],
   "source": [
    "y_pred_plin = plin_reg.predict(poly_features.fit_transform(X_test))"
   ]
  },
  {
   "cell_type": "code",
   "execution_count": 26,
   "metadata": {},
   "outputs": [
    {
     "name": "stdout",
     "output_type": "stream",
     "text": [
      "Maean Squared Error =  0.04304923553720138\n",
      "Mean Absolute Error =  0.15580107203745544\n",
      "Root Mean Squared Error =  0.39471644510642756\n"
     ]
    }
   ],
   "source": [
    "display_scores(y_test, y_pred_plin)"
   ]
  },
  {
   "cell_type": "code",
   "execution_count": 27,
   "metadata": {},
   "outputs": [
    {
     "name": "stdout",
     "output_type": "stream",
     "text": [
      "r2 score: 0.9579560895210378\n"
     ]
    }
   ],
   "source": [
    "print('r2 score:',r2_score(y_test,y_pred_plin))"
   ]
  },
  {
   "cell_type": "code",
   "execution_count": 28,
   "metadata": {},
   "outputs": [
    {
     "name": "stdout",
     "output_type": "stream",
     "text": [
      "3603353122344.9644\n",
      "[-3.60335312e+12  7.90498034e-01  4.04165609e-01 -1.88937501e-01\n",
      "  5.97961609e-01 -4.47441868e-01 -7.25128869e-01 -4.31117014e-01\n",
      " -1.21103089e+00  2.34275686e+00 -8.37138935e-01  3.65022091e-01\n",
      "  2.81166327e-01  7.90498034e-01  4.65030792e-13 -1.02148845e-12\n",
      " -3.17690318e-13  8.42742542e-13  5.21957477e-13  4.55691040e-13\n",
      " -2.98767011e+00  1.72481721e+01 -1.33073949e+01 -3.58550844e+00\n",
      "  1.60181313e+00  4.04165609e-01  1.71418435e-13 -1.78967952e-13\n",
      "  3.61044528e-13 -2.22488694e-13 -2.58459920e-13 -1.37854703e+01\n",
      "  2.85480245e+01 -1.45027761e+01 -2.83492049e+00  2.26597936e+00\n",
      " -1.88937501e-01  6.39488462e-14 -6.21724894e-15  9.14823772e-14\n",
      "  4.17443857e-14  2.56121174e+00 -7.58723021e+00  4.23778373e+00\n",
      "  2.21863591e+00 -8.55573390e-01  5.97961609e-01  7.10542736e-15\n",
      "  0.00000000e+00 -1.77635684e-15  1.03290248e+01 -2.96602171e+01\n",
      "  1.89242316e+01  3.04042270e+00 -1.53431144e+00 -4.47441868e-01\n",
      "  0.00000000e+00  0.00000000e+00  9.86561045e-01 -1.23780479e+00\n",
      "  1.37983416e+00 -3.67327754e-01 -5.87452111e-01 -7.25128869e-01\n",
      "  0.00000000e+00  1.41903250e+00 -5.21598651e+00  2.19555625e+00\n",
      "  1.82575382e+00 -3.39569505e-01 -4.31117015e-01  2.66279441e-01\n",
      "  2.47798862e-01  2.35626406e-01  6.79663476e-02 -2.69719718e-01\n",
      "  8.91849380e+00 -3.18216166e+01  1.05234546e-01  3.60200572e+00\n",
      "  7.16372695e+00  3.39185991e+01 -1.19108876e+01 -1.89513898e+01\n",
      " -3.16084196e+00  1.07381364e+00  1.57770445e+01 -4.46388125e+00\n",
      "  5.92995551e-01 -8.25192939e-01  4.15833879e-01]\n"
     ]
    }
   ],
   "source": [
    "print(plin_reg.intercept_)\n",
    "print(plin_reg.coef_)"
   ]
  },
  {
   "cell_type": "code",
   "execution_count": 29,
   "metadata": {},
   "outputs": [
    {
     "data": {
      "text/plain": [
       "Text(0, 0.5, 'True values')"
      ]
     },
     "execution_count": 29,
     "metadata": {},
     "output_type": "execute_result"
    },
    {
     "data": {
      "image/png": "[encoded data removed]",
      "text/plain": [
       "<Figure size 432x288 with 1 Axes>"
      ]
     },
     "metadata": {
      "needs_background": "light"
     },
     "output_type": "display_data"
    }
   ],
   "source": [
    "plt.scatter(y_pred_plin, y_test)\n",
    "plt.xlabel('Predictions')\n",
    "plt.ylabel('True values')"
   ]
  },
  {
   "cell_type": "markdown",
   "metadata": {},
   "source": [
    "## Support Vector Regression"
   ]
  },
  {
   "cell_type": "code",
   "execution_count": 30,
   "metadata": {},
   "outputs": [
    {
     "name": "stderr",
     "output_type": "stream",
     "text": [
      "C:\\Users\\Riyad\\Anaconda3\\lib\\site-packages\\sklearn\\svm\\base.py:193: FutureWarning: The default value of gamma will change from 'auto' to 'scale' in version 0.22 to account better for unscaled features. Set gamma explicitly to 'auto' or 'scale' to avoid this warning.\n",
      "  \"avoid this warning.\", FutureWarning)\n"
     ]
    },
    {
     "data": {
      "text/plain": [
       "SVR(C=1.0, cache_size=200, coef0=0.0, degree=3, epsilon=0.2,\n",
       "    gamma='auto_deprecated', kernel='rbf', max_iter=-1, shrinking=True,\n",
       "    tol=0.001, verbose=False)"
      ]
     },
     "execution_count": 30,
     "metadata": {},
     "output_type": "execute_result"
    }
   ],
   "source": [
    "from sklearn.svm import SVR\n",
    "svr_reg = SVR(C = 1.0, epsilon = 0.2)\n",
    "svr_reg.fit(X_train, y_train)"
   ]
  },
  {
   "cell_type": "code",
   "execution_count": 31,
   "metadata": {},
   "outputs": [],
   "source": [
    "y_pred_svr = svr_reg.predict(X_test)"
   ]
  },
  {
   "cell_type": "code",
   "execution_count": 32,
   "metadata": {},
   "outputs": [
    {
     "name": "stdout",
     "output_type": "stream",
     "text": [
      "Maean Squared Error =  0.03142971096817951\n",
      "Mean Absolute Error =  0.13761199376835465\n",
      "Root Mean Squared Error =  0.3709609059838444\n"
     ]
    }
   ],
   "source": [
    "display_scores(y_test, y_pred_svr)"
   ]
  },
  {
   "cell_type": "code",
   "execution_count": 33,
   "metadata": {},
   "outputs": [
    {
     "name": "stdout",
     "output_type": "stream",
     "text": [
      "r2 score: 0.9693042643420725\n"
     ]
    }
   ],
   "source": [
    "print('r2 score:',r2_score(y_test,y_pred_svr))"
   ]
  },
  {
   "cell_type": "code",
   "execution_count": 34,
   "metadata": {},
   "outputs": [
    {
     "name": "stdout",
     "output_type": "stream",
     "text": [
      "[0.75624336]\n"
     ]
    }
   ],
   "source": [
    "print(svr_reg.intercept_)\n"
   ]
  },
  {
   "cell_type": "code",
   "execution_count": 35,
   "metadata": {},
   "outputs": [
    {
     "data": {
      "text/plain": [
       "Text(0, 0.5, 'True values')"
      ]
     },
     "execution_count": 35,
     "metadata": {},
     "output_type": "execute_result"
    },
    {
     "data": {
      "image/png": "[encoded data removed]",
      "text/plain": [
       "<Figure size 432x288 with 1 Axes>"
      ]
     },
     "metadata": {
      "needs_background": "light"
     },
     "output_type": "display_data"
    }
   ],
   "source": [
    "plt.scatter(y_pred_svr, y_test)\n",
    "plt.xlabel('Predictions')\n",
    "plt.ylabel('True values')"
   ]
  },
  {
   "cell_type": "markdown",
   "metadata": {},
   "source": [
    "## Decision Tree Regressor"
   ]
  },
  {
   "cell_type": "code",
   "execution_count": 36,
   "metadata": {},
   "outputs": [
    {
     "data": {
      "text/plain": [
       "DecisionTreeRegressor(criterion='mse', max_depth=None, max_features=None,\n",
       "                      max_leaf_nodes=None, min_impurity_decrease=0.0,\n",
       "                      min_impurity_split=None, min_samples_leaf=1,\n",
       "                      min_samples_split=2, min_weight_fraction_leaf=0.0,\n",
       "                      presort=False, random_state=42, splitter='best')"
      ]
     },
     "execution_count": 36,
     "metadata": {},
     "output_type": "execute_result"
    }
   ],
   "source": [
    "from sklearn.tree import DecisionTreeRegressor\n",
    "tree_reg = DecisionTreeRegressor(min_samples_leaf =1, random_state = 42)\n",
    "tree_reg.fit(X_train, y_train)"
   ]
  },
  {
   "cell_type": "code",
   "execution_count": 37,
   "metadata": {},
   "outputs": [],
   "source": [
    "y_pred_tree = tree_reg.predict(X_test)"
   ]
  },
  {
   "cell_type": "code",
   "execution_count": 38,
   "metadata": {},
   "outputs": [
    {
     "name": "stdout",
     "output_type": "stream",
     "text": [
      "Maean Squared Error =  0.03903147747517119\n",
      "Mean Absolute Error =  0.12003381779485911\n",
      "Root Mean Squared Error =  0.34645896985770064\n"
     ]
    }
   ],
   "source": [
    "display_scores(y_test, y_pred_tree)"
   ]
  },
  {
   "cell_type": "code",
   "execution_count": null,
   "metadata": {},
   "outputs": [],
   "source": [
    "plt.scatter(y_pred_plin, y_test)\n",
    "plt.xlabel('Predictions')\n",
    "plt.ylabel('True values')"
   ]
  },
  {
   "cell_type": "markdown",
   "metadata": {},
   "source": [
    "## Random Forest Regressor"
   ]
  },
  {
   "cell_type": "code",
   "execution_count": 39,
   "metadata": {},
   "outputs": [
    {
     "data": {
      "text/plain": [
       "RandomForestRegressor(bootstrap=True, criterion='mse', max_depth=None,\n",
       "                      max_features='auto', max_leaf_nodes=None,\n",
       "                      min_impurity_decrease=0.0, min_impurity_split=None,\n",
       "                      min_samples_leaf=1, min_samples_split=2,\n",
       "                      min_weight_fraction_leaf=0.0, n_estimators=100,\n",
       "                      n_jobs=None, oob_score=False, random_state=42, verbose=0,\n",
       "                      warm_start=False)"
      ]
     },
     "execution_count": 39,
     "metadata": {},
     "output_type": "execute_result"
    }
   ],
   "source": [
    "from sklearn.ensemble import RandomForestRegressor\n",
    "rnd_reg = RandomForestRegressor(n_estimators = 100, random_state = 42)\n",
    "rnd_reg.fit(X_train, y_train)"
   ]
  },
  {
   "cell_type": "code",
   "execution_count": 40,
   "metadata": {},
   "outputs": [],
   "source": [
    "y_pred_rnd = rnd_reg.predict(X_test)"
   ]
  },
  {
   "cell_type": "code",
   "execution_count": 41,
   "metadata": {},
   "outputs": [
    {
     "name": "stdout",
     "output_type": "stream",
     "text": [
      "Maean Squared Error =  0.02775970879099694\n",
      "Mean Absolute Error =  0.1101435440612534\n",
      "Root Mean Squared Error =  0.331878809298294\n"
     ]
    }
   ],
   "source": [
    "display_scores(y_test, y_pred_rnd)"
   ]
  },
  {
   "cell_type": "markdown",
   "metadata": {},
   "source": [
    "## Impact Learning"
   ]
  },
  {
   "cell_type": "code",
   "execution_count": 42,
   "metadata": {},
   "outputs": [
    {
     "name": "stdout",
     "output_type": "stream",
     "text": [
      "Epoch: 100, loss: 0.332691 \n",
      "Epoch: 200, loss: 0.304668 \n",
      "Epoch: 300, loss: 0.282221 \n",
      "Epoch: 400, loss: 0.265348 \n",
      "Epoch: 500, loss: 0.250194 \n",
      "Epoch: 600, loss: 0.238290 \n",
      "Epoch: 700, loss: 0.228216 \n",
      "Epoch: 800, loss: 0.221477 \n",
      "Epoch: 900, loss: 0.215526 \n",
      "Epoch: 1000, loss: 0.210972 \n",
      "Epoch: 1100, loss: 0.208385 \n",
      "Epoch: 1200, loss: 0.206815 \n",
      "Epoch: 1300, loss: 0.205436 \n",
      "Epoch: 1400, loss: 0.204026 \n",
      "Epoch: 1500, loss: 0.202578 \n",
      "Epoch: 1600, loss: 0.201088 \n",
      "Epoch: 1700, loss: 0.199553 \n",
      "Epoch: 1800, loss: 0.197978 \n",
      "Epoch: 1900, loss: 0.196388 \n",
      "Epoch: 2000, loss: 0.194820 \n",
      "Epoch: 2100, loss: 0.193312 \n",
      "Epoch: 2200, loss: 0.192532 \n",
      "Epoch: 2300, loss: 0.191752 \n",
      "Epoch: 2400, loss: 0.191103 \n",
      "Epoch: 2500, loss: 0.190436 \n",
      "Epoch: 2600, loss: 0.189964 \n",
      "Epoch: 2700, loss: 0.189765 \n",
      "Epoch: 2800, loss: 0.189578 \n",
      "Epoch: 2900, loss: 0.189340 \n",
      "Epoch: 3000, loss: 0.189142 \n",
      "Epoch: 3100, loss: 0.188968 \n",
      "Epoch: 3200, loss: 0.188754 \n",
      "Epoch: 3300, loss: 0.188587 \n",
      "Epoch: 3400, loss: 0.188470 \n",
      "Epoch: 3500, loss: 0.188353 \n",
      "Epoch: 3600, loss: 0.188223 \n",
      "Epoch: 3700, loss: 0.188181 \n",
      "Epoch: 3800, loss: 0.188027 \n",
      "Epoch: 3900, loss: 0.187920 \n",
      "Epoch: 4000, loss: 0.187780 \n",
      "Epoch: 4100, loss: 0.187693 \n",
      "Epoch: 4200, loss: 0.187578 \n",
      "Epoch: 4300, loss: 0.187559 \n",
      "Epoch: 4400, loss: 0.187453 \n",
      "Epoch: 4500, loss: 0.187347 \n",
      "Epoch: 4600, loss: 0.187309 \n",
      "Epoch: 4700, loss: 0.187209 \n",
      "Epoch: 4800, loss: 0.187168 \n",
      "Epoch: 4900, loss: 0.187153 \n",
      "Epoch: 5000, loss: 0.187074 \n",
      "Epoch: 5100, loss: 0.186983 \n",
      "Epoch: 5200, loss: 0.186924 \n",
      "Epoch: 5300, loss: 0.186875 \n",
      "Epoch: 5400, loss: 0.186823 \n",
      "Epoch: 5500, loss: 0.186771 \n",
      "Epoch: 5600, loss: 0.186765 \n",
      "Epoch: 5700, loss: 0.186656 \n",
      "Epoch: 5800, loss: 0.186587 \n",
      "Epoch: 5900, loss: 0.186537 \n",
      "Epoch: 6000, loss: 0.186555 \n",
      "Epoch: 6100, loss: 0.186430 \n",
      "Epoch: 6200, loss: 0.186372 \n",
      "Epoch: 6300, loss: 0.186315 \n",
      "Epoch: 6400, loss: 0.186313 \n",
      "Epoch: 6500, loss: 0.186231 \n",
      "Epoch: 6600, loss: 0.186171 \n",
      "Epoch: 6700, loss: 0.186141 \n",
      "Epoch: 6800, loss: 0.186121 \n",
      "Epoch: 6900, loss: 0.186046 \n",
      "Epoch: 7000, loss: 0.186039 \n",
      "Epoch: 7100, loss: 0.185969 \n",
      "Epoch: 7200, loss: 0.185985 \n",
      "Epoch: 7300, loss: 0.185903 \n",
      "Epoch: 7400, loss: 0.185863 \n",
      "Epoch: 7500, loss: 0.185836 \n",
      "Epoch: 7600, loss: 0.185798 \n",
      "Epoch: 7700, loss: 0.185716 \n",
      "Epoch: 7800, loss: 0.185664 \n",
      "Epoch: 7900, loss: 0.185636 \n",
      "Epoch: 8000, loss: 0.185642 \n",
      "Epoch: 8100, loss: 0.185547 \n",
      "Epoch: 8200, loss: 0.185544 \n",
      "Epoch: 8300, loss: 0.185518 \n",
      "Epoch: 8400, loss: 0.185532 \n",
      "Epoch: 8500, loss: 0.185424 \n",
      "Epoch: 8600, loss: 0.185421 \n",
      "Epoch: 8700, loss: 0.185410 \n",
      "Epoch: 8800, loss: 0.185391 \n",
      "Epoch: 8900, loss: 0.185398 \n",
      "Epoch: 9000, loss: 0.185340 \n",
      "Epoch: 9100, loss: 0.185331 \n",
      "Epoch: 9200, loss: 0.185322 \n",
      "Epoch: 9300, loss: 0.185310 \n",
      "Epoch: 9400, loss: 0.185288 \n",
      "Epoch: 9500, loss: 0.185250 \n",
      "Epoch: 9600, loss: 0.185232 \n",
      "Epoch: 9700, loss: 0.185221 \n",
      "Epoch: 9800, loss: 0.185210 \n",
      "Epoch: 9900, loss: 0.185195 \n",
      "Epoch: 10000, loss: 0.185186 \n",
      "Epoch: 10100, loss: 0.185170 \n",
      "Epoch: 10200, loss: 0.185166 \n",
      "Epoch: 10300, loss: 0.185145 \n",
      "Epoch: 10400, loss: 0.185130 \n",
      "Epoch: 10500, loss: 0.185142 \n",
      "Epoch: 10600, loss: 0.185121 \n",
      "Epoch: 10700, loss: 0.185141 \n",
      "Epoch: 10800, loss: 0.185106 \n",
      "Epoch: 10900, loss: 0.185092 \n",
      "Epoch: 11000, loss: 0.185079 \n",
      "Epoch: 11100, loss: 0.185051 \n",
      "Epoch: 11200, loss: 0.185060 \n",
      "Epoch: 11300, loss: 0.185024 \n",
      "Epoch: 11400, loss: 0.185036 \n",
      "Epoch: 11500, loss: 0.184996 \n",
      "Epoch: 11600, loss: 0.184989 \n",
      "Epoch: 11700, loss: 0.185001 \n",
      "Epoch: 11800, loss: 0.184970 \n",
      "Epoch: 11900, loss: 0.184939 \n",
      "Epoch: 12000, loss: 0.184950 \n",
      "Epoch: 12100, loss: 0.184920 \n",
      "Epoch: 12200, loss: 0.184927 \n",
      "Epoch: 12300, loss: 0.184915 \n",
      "Epoch: 12400, loss: 0.184906 \n",
      "Epoch: 12500, loss: 0.184893 \n",
      "Epoch: 12600, loss: 0.184886 \n",
      "Epoch: 12700, loss: 0.184858 \n",
      "Epoch: 12800, loss: 0.184856 \n",
      "Epoch: 12900, loss: 0.184843 \n",
      "Epoch: 13000, loss: 0.184836 \n",
      "Epoch: 13100, loss: 0.184820 \n",
      "Epoch: 13200, loss: 0.184811 \n",
      "Epoch: 13300, loss: 0.184776 \n",
      "Epoch: 13400, loss: 0.184791 \n",
      "Epoch: 13500, loss: 0.184763 \n",
      "Epoch: 13600, loss: 0.184757 \n",
      "Epoch: 13700, loss: 0.184733 \n",
      "Epoch: 13800, loss: 0.184727 \n",
      "Epoch: 13900, loss: 0.184697 \n",
      "Epoch: 14000, loss: 0.184705 \n",
      "Epoch: 14100, loss: 0.184685 \n",
      "Epoch: 14200, loss: 0.184679 \n",
      "Epoch: 14300, loss: 0.184654 \n",
      "Epoch: 14400, loss: 0.184637 \n",
      "Epoch: 14500, loss: 0.184629 \n",
      "Epoch: 14600, loss: 0.184608 \n",
      "Epoch: 14700, loss: 0.184597 \n",
      "Epoch: 14800, loss: 0.184583 \n",
      "Epoch: 14900, loss: 0.184599 \n",
      "Epoch: 15000, loss: 0.184583 \n",
      "Epoch: 15100, loss: 0.184565 \n",
      "Epoch: 15200, loss: 0.184537 \n",
      "Epoch: 15300, loss: 0.184535 \n",
      "Epoch: 15400, loss: 0.184541 \n",
      "Epoch: 15500, loss: 0.184502 \n",
      "Epoch: 15600, loss: 0.184493 \n",
      "Epoch: 15700, loss: 0.184480 \n",
      "Epoch: 15800, loss: 0.184463 \n",
      "Epoch: 15900, loss: 0.184466 \n",
      "Epoch: 16000, loss: 0.184476 \n",
      "Epoch: 16100, loss: 0.184469 \n",
      "Epoch: 16200, loss: 0.184433 \n",
      "Epoch: 16300, loss: 0.184431 \n",
      "Epoch: 16400, loss: 0.184422 \n",
      "Epoch: 16500, loss: 0.184377 \n",
      "Epoch: 16600, loss: 0.184390 \n",
      "Epoch: 16700, loss: 0.184362 \n",
      "Epoch: 16800, loss: 0.184362 \n",
      "Epoch: 16900, loss: 0.184342 \n",
      "Epoch: 17000, loss: 0.184320 \n",
      "Epoch: 17100, loss: 0.184300 \n",
      "Epoch: 17200, loss: 0.184287 \n",
      "Epoch: 17300, loss: 0.184317 \n",
      "Epoch: 17400, loss: 0.184278 \n",
      "Epoch: 17500, loss: 0.184262 \n",
      "Epoch: 17600, loss: 0.184253 \n",
      "Epoch: 17700, loss: 0.184239 \n",
      "Epoch: 17800, loss: 0.184250 \n",
      "Epoch: 17900, loss: 0.184232 \n",
      "Epoch: 18000, loss: 0.184222 \n",
      "Epoch: 18100, loss: 0.184197 \n",
      "Epoch: 18200, loss: 0.184187 \n",
      "Epoch: 18300, loss: 0.184159 \n",
      "Epoch: 18400, loss: 0.184173 \n",
      "Epoch: 18500, loss: 0.184173 \n",
      "Epoch: 18600, loss: 0.184130 \n",
      "Epoch: 18700, loss: 0.184127 \n",
      "Epoch: 18800, loss: 0.184114 \n",
      "Epoch: 18900, loss: 0.184090 \n",
      "Epoch: 19000, loss: 0.184087 \n",
      "Epoch: 19100, loss: 0.184093 \n",
      "Epoch: 19200, loss: 0.184086 \n",
      "Epoch: 19300, loss: 0.184099 \n",
      "Epoch: 19400, loss: 0.184049 \n",
      "Epoch: 19500, loss: 0.184046 \n",
      "Epoch: 19600, loss: 0.184057 \n",
      "Epoch: 19700, loss: 0.184047 \n",
      "Epoch: 19800, loss: 0.184042 \n",
      "Epoch: 19900, loss: 0.184031 \n",
      "Epoch: 20000, loss: 0.184017 \n",
      "Training Completed\n"
     ]
    }
   ],
   "source": [
    "from ImpactLearning import Regressor\n",
    "il_reg = Regressor()\n",
    "il_reg.fit(X_train,y_train, loss_function=\"MAE\", optimizer = \"GD\",)\n",
    "il_reg.train(epochs= 20000, lr=0.03, progress_per=100)"
   ]
  },
  {
   "cell_type": "code",
   "execution_count": 43,
   "metadata": {},
   "outputs": [],
   "source": [
    "y_pred_il = il_reg.predict(X_test)"
   ]
  },
  {
   "cell_type": "code",
   "execution_count": 44,
   "metadata": {},
   "outputs": [
    {
     "name": "stdout",
     "output_type": "stream",
     "text": [
      "Maean Squared Error =  0.04785068684315573\n",
      "Mean Absolute Error =  0.1462718266024742\n",
      "Root Mean Squared Error =  0.3824549994476137\n"
     ]
    }
   ],
   "source": [
    "display_scores(y_test, y_pred_il)"
   ]
  },
  {
   "cell_type": "markdown",
   "metadata": {},
   "source": [
    "##### Learning Curve"
   ]
  },
  {
   "cell_type": "code",
   "execution_count": 59,
   "metadata": {},
   "outputs": [],
   "source": [
    "x_axis = np.arange(200, 20000, 200)"
   ]
  },
  {
   "cell_type": "code",
   "execution_count": 60,
   "metadata": {},
   "outputs": [],
   "source": [
    "score = il_reg.getLossValues()\n",
    "se_score = []\n",
    "score = [se_score.append(score[x_axis[x]]) for x in range(len(x_axis))]"
   ]
  },
  {
   "cell_type": "code",
   "execution_count": 62,
   "metadata": {},
   "outputs": [
    {
     "data": {
      "text/plain": [
       "[<matplotlib.lines.Line2D at 0x1fbb7e9dd88>]"
      ]
     },
     "execution_count": 62,
     "metadata": {},
     "output_type": "execute_result"
    },
    {
     "data": {
      "image/png": "[encoded data removed]",
      "text/plain": [
       "<Figure size 432x288 with 1 Axes>"
      ]
     },
     "metadata": {
      "needs_background": "light"
     },
     "output_type": "display_data"
    }
   ],
   "source": [
    "plt.plot(x_axis, se_score)"
   ]
  },
  {
   "cell_type": "code",
   "execution_count": null,
   "metadata": {},
   "outputs": [],
   "source": []
  }
 ],
 "metadata": {
  "kernelspec": {
   "display_name": "Python 3",
   "language": "python",
   "name": "python3"
  },
  "language_info": {
   "codemirror_mode": {
    "name": "ipython",
    "version": 3
   },
   "file_extension": ".py",
   "mimetype": "text/x-python",
   "name": "python",
   "nbconvert_exporter": "python",
   "pygments_lexer": "ipython3",
   "version": "3.7.4"
  }
 },
 "nbformat": 4,
 "nbformat_minor": 4
}
