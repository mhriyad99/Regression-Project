{
 "cells": [
  {
   "cell_type": "markdown",
   "metadata": {},
   "source": [
    "# Medical Cost Personal Cost Prediction\n",
    "\n",
    "\n",
    "### Content\n",
    "Columns\n",
    "\n",
    "1. age: age of primary beneficiary\n",
    "\n",
    "2. sex: insurance contractor gender, female, male\n",
    "\n",
    "3. bmi: Body mass index, providing an understanding of body, weights that are relatively high or low relative to height,\n",
    "4. objective index of body weight (kg / m ^ 2) using the ratio of height to weight, ideally 18.5 to 24.9\n",
    "\n",
    "5. children: Number of children covered by health insurance / Number of dependents\n",
    "\n",
    "6. smoker: Smoking\n",
    "\n",
    "7. region: the beneficiary's residential area in the US, northeast, southeast, southwest, northwest.\n",
    "\n",
    "8. charges: Individual medical costs billed by health insurance\n",
    "\n",
    "Data Link:  https://www.kaggle.com/mirichoi0218/insurance \n",
    "\n",
    "The main goal of this notebook is to predict insurance cost accurately and compare the other machine learning regression algorithm with **Impact Learning**.\n",
    "\n",
    "This data has been analysed and modeled by **Md. Mahmudul Hasan Riyad**"
   ]
  },
  {
   "cell_type": "code",
   "execution_count": 1,
   "metadata": {},
   "outputs": [
    {
     "name": "stderr",
     "output_type": "stream",
     "text": [
      "C:\\Users\\Riyad\\Anaconda3\\lib\\site-packages\\statsmodels\\tools\\_testing.py:19: FutureWarning: pandas.util.testing is deprecated. Use the functions in the public API at pandas.testing instead.\n",
      "  import pandas.util.testing as tm\n"
     ]
    }
   ],
   "source": [
    "import numpy as np\n",
    "import pandas as pd\n",
    "import matplotlib.pyplot as plt\n",
    "import seaborn as sns\n",
    "from sklearn.pipeline import make_pipeline\n",
    "from sklearn.preprocessing import StandardScaler"
   ]
  },
  {
   "cell_type": "code",
   "execution_count": 2,
   "metadata": {},
   "outputs": [],
   "source": [
    "data = pd.read_csv(\"F:\\\\datasets\\\\Medical Cost Personal Datasets\\\\insurance.csv\")"
   ]
  },
  {
   "cell_type": "markdown",
   "metadata": {},
   "source": [
    "## Exploring Data"
   ]
  },
  {
   "cell_type": "code",
   "execution_count": 3,
   "metadata": {},
   "outputs": [
    {
     "data": {
      "text/html": [
       "<div>\n",
       "<style scoped>\n",
       "    .dataframe tbody tr th:only-of-type {\n",
       "        vertical-align: middle;\n",
       "    }\n",
       "\n",
       "    .dataframe tbody tr th {\n",
       "        vertical-align: top;\n",
       "    }\n",
       "\n",
       "    .dataframe thead th {\n",
       "        text-align: right;\n",
       "    }\n",
       "</style>\n",
       "<table border=\"1\" class=\"dataframe\">\n",
       "  <thead>\n",
       "    <tr style=\"text-align: right;\">\n",
       "      <th></th>\n",
       "      <th>age</th>\n",
       "      <th>sex</th>\n",
       "      <th>bmi</th>\n",
       "      <th>children</th>\n",
       "      <th>smoker</th>\n",
       "      <th>region</th>\n",
       "      <th>charges</th>\n",
       "    </tr>\n",
       "  </thead>\n",
       "  <tbody>\n",
       "    <tr>\n",
       "      <th>0</th>\n",
       "      <td>19</td>\n",
       "      <td>female</td>\n",
       "      <td>27.900</td>\n",
       "      <td>0</td>\n",
       "      <td>yes</td>\n",
       "      <td>southwest</td>\n",
       "      <td>16884.92400</td>\n",
       "    </tr>\n",
       "    <tr>\n",
       "      <th>1</th>\n",
       "      <td>18</td>\n",
       "      <td>male</td>\n",
       "      <td>33.770</td>\n",
       "      <td>1</td>\n",
       "      <td>no</td>\n",
       "      <td>southeast</td>\n",
       "      <td>1725.55230</td>\n",
       "    </tr>\n",
       "    <tr>\n",
       "      <th>2</th>\n",
       "      <td>28</td>\n",
       "      <td>male</td>\n",
       "      <td>33.000</td>\n",
       "      <td>3</td>\n",
       "      <td>no</td>\n",
       "      <td>southeast</td>\n",
       "      <td>4449.46200</td>\n",
       "    </tr>\n",
       "    <tr>\n",
       "      <th>3</th>\n",
       "      <td>33</td>\n",
       "      <td>male</td>\n",
       "      <td>22.705</td>\n",
       "      <td>0</td>\n",
       "      <td>no</td>\n",
       "      <td>northwest</td>\n",
       "      <td>21984.47061</td>\n",
       "    </tr>\n",
       "    <tr>\n",
       "      <th>4</th>\n",
       "      <td>32</td>\n",
       "      <td>male</td>\n",
       "      <td>28.880</td>\n",
       "      <td>0</td>\n",
       "      <td>no</td>\n",
       "      <td>northwest</td>\n",
       "      <td>3866.85520</td>\n",
       "    </tr>\n",
       "  </tbody>\n",
       "</table>\n",
       "</div>"
      ],
      "text/plain": [
       "   age     sex     bmi  children smoker     region      charges\n",
       "0   19  female  27.900         0    yes  southwest  16884.92400\n",
       "1   18    male  33.770         1     no  southeast   1725.55230\n",
       "2   28    male  33.000         3     no  southeast   4449.46200\n",
       "3   33    male  22.705         0     no  northwest  21984.47061\n",
       "4   32    male  28.880         0     no  northwest   3866.85520"
      ]
     },
     "execution_count": 3,
     "metadata": {},
     "output_type": "execute_result"
    }
   ],
   "source": [
    "data.head()"
   ]
  },
  {
   "cell_type": "code",
   "execution_count": 4,
   "metadata": {},
   "outputs": [
    {
     "data": {
      "text/plain": [
       "(1338, 7)"
      ]
     },
     "execution_count": 4,
     "metadata": {},
     "output_type": "execute_result"
    }
   ],
   "source": [
    "data.shape"
   ]
  },
  {
   "cell_type": "code",
   "execution_count": 5,
   "metadata": {},
   "outputs": [
    {
     "data": {
      "text/plain": [
       "age         0\n",
       "sex         0\n",
       "bmi         0\n",
       "children    0\n",
       "smoker      0\n",
       "region      0\n",
       "charges     0\n",
       "dtype: int64"
      ]
     },
     "execution_count": 5,
     "metadata": {},
     "output_type": "execute_result"
    }
   ],
   "source": [
    "data.isnull().sum()"
   ]
  },
  {
   "cell_type": "code",
   "execution_count": 6,
   "metadata": {},
   "outputs": [
    {
     "data": {
      "text/plain": [
       "southeast    364\n",
       "southwest    325\n",
       "northwest    325\n",
       "northeast    324\n",
       "Name: region, dtype: int64"
      ]
     },
     "execution_count": 6,
     "metadata": {},
     "output_type": "execute_result"
    }
   ],
   "source": [
    "data['region'].value_counts()"
   ]
  },
  {
   "cell_type": "code",
   "execution_count": 7,
   "metadata": {},
   "outputs": [
    {
     "data": {
      "text/plain": [
       "male      676\n",
       "female    662\n",
       "Name: sex, dtype: int64"
      ]
     },
     "execution_count": 7,
     "metadata": {},
     "output_type": "execute_result"
    }
   ],
   "source": [
    "data['sex'].value_counts()"
   ]
  },
  {
   "cell_type": "code",
   "execution_count": 8,
   "metadata": {},
   "outputs": [
    {
     "data": {
      "text/plain": [
       "no     1064\n",
       "yes     274\n",
       "Name: smoker, dtype: int64"
      ]
     },
     "execution_count": 8,
     "metadata": {},
     "output_type": "execute_result"
    }
   ],
   "source": [
    "data['smoker'].value_counts()"
   ]
  },
  {
   "cell_type": "code",
   "execution_count": 9,
   "metadata": {},
   "outputs": [
    {
     "data": {
      "text/plain": [
       "Text(0, 0.5, 'Cost')"
      ]
     },
     "execution_count": 9,
     "metadata": {},
     "output_type": "execute_result"
    },
    {
     "data": {
      "image/png": "[encoded data removed]",
      "text/plain": [
       "<Figure size 432x288 with 1 Axes>"
      ]
     },
     "metadata": {
      "needs_background": "light"
     },
     "output_type": "display_data"
    }
   ],
   "source": [
    "plt.scatter(data['age'], data['charges'])\n",
    "plt.xlabel('Age', fontsize = 15)\n",
    "plt.ylabel('Cost', fontsize = 15)"
   ]
  },
  {
   "cell_type": "code",
   "execution_count": 10,
   "metadata": {},
   "outputs": [
    {
     "data": {
      "text/plain": [
       "Text(0, 0.5, 'Cost')"
      ]
     },
     "execution_count": 10,
     "metadata": {},
     "output_type": "execute_result"
    },
    {
     "data": {
      "image/png": "[encoded data removed]",
      "text/plain": [
       "<Figure size 432x288 with 1 Axes>"
      ]
     },
     "metadata": {
      "needs_background": "light"
     },
     "output_type": "display_data"
    }
   ],
   "source": [
    "plt.scatter(data['bmi'], data['charges'])\n",
    "plt.xlabel('BMI', fontsize = 15)\n",
    "plt.ylabel('Cost', fontsize = 15)"
   ]
  },
  {
   "cell_type": "code",
   "execution_count": 11,
   "metadata": {},
   "outputs": [
    {
     "data": {
      "text/plain": [
       "([<matplotlib.axis.XTick at 0x2330ba814c8>,\n",
       "  <matplotlib.axis.XTick at 0x2330bb634c8>,\n",
       "  <matplotlib.axis.XTick at 0x2330bb63088>,\n",
       "  <matplotlib.axis.XTick at 0x2330bb9ed08>,\n",
       "  <matplotlib.axis.XTick at 0x2330bba4488>,\n",
       "  <matplotlib.axis.XTick at 0x2330bba4b48>,\n",
       "  <matplotlib.axis.XTick at 0x2330bbac5c8>,\n",
       "  <matplotlib.axis.XTick at 0x2330bbac588>,\n",
       "  <matplotlib.axis.XTick at 0x2330bbb01c8>,\n",
       "  <matplotlib.axis.XTick at 0x2330bbb0808>],\n",
       " <a list of 10 Text xticklabel objects>)"
      ]
     },
     "execution_count": 11,
     "metadata": {},
     "output_type": "execute_result"
    },
    {
     "data": {
      "image/png": "[encoded data removed]",
      "text/plain": [
       "<Figure size 432x288 with 1 Axes>"
      ]
     },
     "metadata": {
      "needs_background": "light"
     },
     "output_type": "display_data"
    }
   ],
   "source": [
    "plt.figure(figsize = (6,4))\n",
    "plt.hist(data['age'],bins = 10, histtype = 'bar', ec = 'black')\n",
    "plt.xlabel(\"Age\", fontsize = 15)\n",
    "plt.ylabel(\"Person\", fontsize = 15)\n",
    "plt.xticks(np.arange(0,100,10), fontsize = 12)"
   ]
  },
  {
   "cell_type": "markdown",
   "metadata": {},
   "source": [
    "## Preprocessing"
   ]
  },
  {
   "cell_type": "code",
   "execution_count": 12,
   "metadata": {},
   "outputs": [],
   "source": [
    "# Scaling data\n",
    "scalar = StandardScaler()\n",
    "data.loc[:,['age', 'bmi', 'children', 'charges']] = scalar.fit_transform(data.loc[:,['age', 'bmi', 'children', 'charges']])"
   ]
  },
  {
   "cell_type": "code",
   "execution_count": 13,
   "metadata": {},
   "outputs": [
    {
     "data": {
      "text/html": [
       "<div>\n",
       "<style scoped>\n",
       "    .dataframe tbody tr th:only-of-type {\n",
       "        vertical-align: middle;\n",
       "    }\n",
       "\n",
       "    .dataframe tbody tr th {\n",
       "        vertical-align: top;\n",
       "    }\n",
       "\n",
       "    .dataframe thead th {\n",
       "        text-align: right;\n",
       "    }\n",
       "</style>\n",
       "<table border=\"1\" class=\"dataframe\">\n",
       "  <thead>\n",
       "    <tr style=\"text-align: right;\">\n",
       "      <th></th>\n",
       "      <th>age</th>\n",
       "      <th>sex</th>\n",
       "      <th>bmi</th>\n",
       "      <th>children</th>\n",
       "      <th>smoker</th>\n",
       "      <th>region</th>\n",
       "      <th>charges</th>\n",
       "    </tr>\n",
       "  </thead>\n",
       "  <tbody>\n",
       "    <tr>\n",
       "      <th>0</th>\n",
       "      <td>-1.438764</td>\n",
       "      <td>female</td>\n",
       "      <td>-0.453320</td>\n",
       "      <td>-0.908614</td>\n",
       "      <td>yes</td>\n",
       "      <td>southwest</td>\n",
       "      <td>0.298584</td>\n",
       "    </tr>\n",
       "    <tr>\n",
       "      <th>1</th>\n",
       "      <td>-1.509965</td>\n",
       "      <td>male</td>\n",
       "      <td>0.509621</td>\n",
       "      <td>-0.078767</td>\n",
       "      <td>no</td>\n",
       "      <td>southeast</td>\n",
       "      <td>-0.953689</td>\n",
       "    </tr>\n",
       "    <tr>\n",
       "      <th>2</th>\n",
       "      <td>-0.797954</td>\n",
       "      <td>male</td>\n",
       "      <td>0.383307</td>\n",
       "      <td>1.580926</td>\n",
       "      <td>no</td>\n",
       "      <td>southeast</td>\n",
       "      <td>-0.728675</td>\n",
       "    </tr>\n",
       "    <tr>\n",
       "      <th>3</th>\n",
       "      <td>-0.441948</td>\n",
       "      <td>male</td>\n",
       "      <td>-1.305531</td>\n",
       "      <td>-0.908614</td>\n",
       "      <td>no</td>\n",
       "      <td>northwest</td>\n",
       "      <td>0.719843</td>\n",
       "    </tr>\n",
       "    <tr>\n",
       "      <th>4</th>\n",
       "      <td>-0.513149</td>\n",
       "      <td>male</td>\n",
       "      <td>-0.292556</td>\n",
       "      <td>-0.908614</td>\n",
       "      <td>no</td>\n",
       "      <td>northwest</td>\n",
       "      <td>-0.776802</td>\n",
       "    </tr>\n",
       "  </tbody>\n",
       "</table>\n",
       "</div>"
      ],
      "text/plain": [
       "        age     sex       bmi  children smoker     region   charges\n",
       "0 -1.438764  female -0.453320 -0.908614    yes  southwest  0.298584\n",
       "1 -1.509965    male  0.509621 -0.078767     no  southeast -0.953689\n",
       "2 -0.797954    male  0.383307  1.580926     no  southeast -0.728675\n",
       "3 -0.441948    male -1.305531 -0.908614     no  northwest  0.719843\n",
       "4 -0.513149    male -0.292556 -0.908614     no  northwest -0.776802"
      ]
     },
     "execution_count": 13,
     "metadata": {},
     "output_type": "execute_result"
    }
   ],
   "source": [
    "data.head()"
   ]
  },
  {
   "cell_type": "code",
   "execution_count": 14,
   "metadata": {},
   "outputs": [],
   "source": [
    "# Spliting data into dependent and independent features\n",
    "X = data.drop('charges', axis = 1)\n",
    "y = data['charges']"
   ]
  },
  {
   "cell_type": "code",
   "execution_count": 15,
   "metadata": {},
   "outputs": [],
   "source": [
    "# Encoding the categorical data with OneHotEncoder\n",
    "from sklearn.preprocessing import OneHotEncoder\n",
    "from sklearn.compose import make_column_transformer\n",
    "\n",
    "preprocessor = make_column_transformer((OneHotEncoder(), ['sex', 'smoker', 'region']),\n",
    "                                 remainder = 'passthrough')\n",
    "X = preprocessor.fit_transform(X)\n"
   ]
  },
  {
   "cell_type": "code",
   "execution_count": 16,
   "metadata": {},
   "outputs": [],
   "source": [
    "from sklearn.model_selection import train_test_split\n",
    "X_train, X_test, y_train, y_test = train_test_split(X, y, test_size = .2, random_state = 42)"
   ]
  },
  {
   "cell_type": "code",
   "execution_count": 17,
   "metadata": {},
   "outputs": [],
   "source": [
    "from sklearn.model_selection import cross_val_score\n",
    "from sklearn.model_selection import KFold\n",
    "folds = KFold(n_splits= 10, shuffle = False, random_state = 42)"
   ]
  },
  {
   "cell_type": "code",
   "execution_count": 18,
   "metadata": {},
   "outputs": [],
   "source": [
    "# Useful functions\n",
    "def display_rmse_score(mse):\n",
    "    rmse = np.sqrt(mse)\n",
    "    print(\"Mean Squared Error = \", mse.mean())\n",
    "    print(\"Root Mean Squared Error = \", rmse.mean())\n",
    "    print(\"RMSE Standard Deviation = \", rmse.std() )\n",
    "def display_mae_score(mae):\n",
    "    print(\"Mean Absolute Error = \", mae.mean())\n",
    "    print(\"MAE Standard Deviation = \", mae.std())"
   ]
  },
  {
   "cell_type": "markdown",
   "metadata": {},
   "source": [
    "## Linear Regression"
   ]
  },
  {
   "cell_type": "code",
   "execution_count": 19,
   "metadata": {},
   "outputs": [],
   "source": [
    "from sklearn.linear_model import LinearRegression\n",
    "lin_reg = LinearRegression()\n",
    "lin_scores_mse = -cross_val_score(lin_reg, X_train, y_train, scoring = \"neg_mean_squared_error\",cv = folds)\n",
    "lin_scores_mae = -cross_val_score(lin_reg, X_train, y_train, scoring = \"neg_mean_absolute_error\",cv = folds)"
   ]
  },
  {
   "cell_type": "code",
   "execution_count": 20,
   "metadata": {},
   "outputs": [
    {
     "name": "stdout",
     "output_type": "stream",
     "text": [
      "Mean Squared Error =  0.26198606042100014\n",
      "Root Mean Squared Error =  0.50973107688826\n",
      "RMSE Standard Deviation =  0.04647891646042093\n",
      "Mean Absolute Error =  0.34802638826789495\n",
      "MAE Standard Deviation =  0.033359319328286306\n"
     ]
    }
   ],
   "source": [
    "display_rmse_score(lin_scores_mse)\n",
    "display_mae_score(lin_scores_mae)"
   ]
  },
  {
   "cell_type": "markdown",
   "metadata": {},
   "source": [
    "## Polynomial Regression"
   ]
  },
  {
   "cell_type": "code",
   "execution_count": 21,
   "metadata": {},
   "outputs": [],
   "source": [
    "from sklearn.preprocessing import PolynomialFeatures\n",
    "poly_features = PolynomialFeatures(degree = 2, include_bias = True)\n",
    "X_poly = poly_features.fit_transform(X_train)"
   ]
  },
  {
   "cell_type": "code",
   "execution_count": 22,
   "metadata": {},
   "outputs": [],
   "source": [
    "plin_reg = LinearRegression()\n",
    "plin_scores_mse = -cross_val_score(plin_reg, X_poly, y_train, scoring = \"neg_mean_squared_error\",cv = folds)\n",
    "plin_scores_mae = -cross_val_score(plin_reg, X_poly, y_train, scoring = \"neg_mean_absolute_error\",cv = folds)"
   ]
  },
  {
   "cell_type": "code",
   "execution_count": 23,
   "metadata": {},
   "outputs": [
    {
     "name": "stdout",
     "output_type": "stream",
     "text": [
      "Mean Squared Error =  0.1680002336179515\n",
      "Root Mean Squared Error =  0.40722184427592784\n",
      "RMSE Standard Deviation =  0.04658973237166575\n",
      "Mean Absolute Error =  0.25101400818378694\n",
      "MAE Standard Deviation =  0.026313722760378286\n"
     ]
    }
   ],
   "source": [
    "display_rmse_score(plin_scores_mse)\n",
    "display_mae_score(plin_scores_mae)"
   ]
  },
  {
   "cell_type": "markdown",
   "metadata": {},
   "source": [
    "## Support Vector Regression"
   ]
  },
  {
   "cell_type": "code",
   "execution_count": 24,
   "metadata": {},
   "outputs": [],
   "source": [
    "from sklearn.svm import SVR\n",
    "svr_reg = SVR(C = 2.0, epsilon = 0.2, gamma='scale')\n",
    "svr_scores_mse = -cross_val_score(svr_reg, X_train, y_train, scoring = \"neg_mean_squared_error\",cv = folds)\n",
    "svr_scores_mae = -cross_val_score(svr_reg, X_train, y_train, scoring = \"neg_mean_absolute_error\",cv = folds)"
   ]
  },
  {
   "cell_type": "code",
   "execution_count": 25,
   "metadata": {},
   "outputs": [
    {
     "name": "stdout",
     "output_type": "stream",
     "text": [
      "Mean Squared Error =  0.164536437336028\n",
      "Root Mean Squared Error =  0.4038341905853874\n",
      "RMSE Standard Deviation =  0.03813638486108816\n",
      "Mean Absolute Error =  0.2806969355862488\n",
      "MAE Standard Deviation =  0.02195155631206212\n"
     ]
    }
   ],
   "source": [
    "display_rmse_score(svr_scores_mse)\n",
    "display_mae_score(svr_scores_mae)"
   ]
  },
  {
   "cell_type": "markdown",
   "metadata": {},
   "source": [
    "## Decision Tree Regressor"
   ]
  },
  {
   "cell_type": "code",
   "execution_count": 26,
   "metadata": {},
   "outputs": [],
   "source": [
    "from sklearn.tree import DecisionTreeRegressor\n",
    "tree_reg = DecisionTreeRegressor(min_samples_leaf =1, random_state = 42)\n",
    "tree_scores_mse = -cross_val_score(tree_reg, X_train, y_train, scoring = \"neg_mean_squared_error\",cv = folds)\n",
    "tree_scores_mae = -cross_val_score(tree_reg, X_train, y_train, scoring = \"neg_mean_absolute_error\",cv = folds)"
   ]
  },
  {
   "cell_type": "code",
   "execution_count": 27,
   "metadata": {},
   "outputs": [
    {
     "name": "stdout",
     "output_type": "stream",
     "text": [
      "Mean Squared Error =  0.2950358066032953\n",
      "Root Mean Squared Error =  0.5409371242910301\n",
      "RMSE Standard Deviation =  0.04922229339482142\n",
      "Mean Absolute Error =  0.257858715403504\n",
      "MAE Standard Deviation =  0.03643147255148946\n"
     ]
    }
   ],
   "source": [
    "display_rmse_score(tree_scores_mse)\n",
    "display_mae_score(tree_scores_mae)"
   ]
  },
  {
   "cell_type": "markdown",
   "metadata": {},
   "source": [
    "## Random Forest Regressor"
   ]
  },
  {
   "cell_type": "code",
   "execution_count": 28,
   "metadata": {},
   "outputs": [],
   "source": [
    "from sklearn.ensemble import RandomForestRegressor\n",
    "rnd_reg = RandomForestRegressor(n_estimators = 100, random_state = 42)\n",
    "rnd_scores_mse = -cross_val_score(rnd_reg, X_train, y_train, scoring = \"neg_mean_squared_error\",cv = folds)\n",
    "rnd_scores_mae = -cross_val_score(rnd_reg, X_train, y_train, scoring = \"neg_mean_absolute_error\",cv = folds)"
   ]
  },
  {
   "cell_type": "code",
   "execution_count": 29,
   "metadata": {},
   "outputs": [
    {
     "name": "stdout",
     "output_type": "stream",
     "text": [
      "Mean Squared Error =  0.16937838268968877\n",
      "Root Mean Squared Error =  0.40940250992674204\n",
      "RMSE Standard Deviation =  0.04204720627310008\n",
      "Mean Absolute Error =  0.23314283019548204\n",
      "MAE Standard Deviation =  0.015517600999903337\n"
     ]
    }
   ],
   "source": [
    "display_rmse_score(rnd_scores_mse)\n",
    "display_mae_score(rnd_scores_mae)"
   ]
  },
  {
   "cell_type": "markdown",
   "metadata": {},
   "source": [
    "## Impact Learning Regressor"
   ]
  },
  {
   "cell_type": "code",
   "execution_count": 30,
   "metadata": {},
   "outputs": [
    {
     "name": "stdout",
     "output_type": "stream",
     "text": [
      "Epoch: 200, train_loss: 0.564188, test_loss: 0.567080 \n",
      "Epoch: 400, train_loss: 0.414457, test_loss: 0.404431 \n",
      "Epoch: 600, train_loss: 0.326519, test_loss: 0.312311 \n",
      "Epoch: 800, train_loss: 0.308303, test_loss: 0.294709 \n",
      "Epoch: 1000, train_loss: 0.305985, test_loss: 0.292779 \n",
      "Epoch: 1200, train_loss: 0.304470, test_loss: 0.290831 \n",
      "Epoch: 1400, train_loss: 0.302938, test_loss: 0.288660 \n",
      "Epoch: 1600, train_loss: 0.301493, test_loss: 0.286488 \n",
      "Epoch: 1800, train_loss: 0.300007, test_loss: 0.284092 \n",
      "Epoch: 2000, train_loss: 0.298394, test_loss: 0.281502 \n",
      "Epoch: 2200, train_loss: 0.296628, test_loss: 0.278695 \n",
      "Epoch: 2400, train_loss: 0.294684, test_loss: 0.275595 \n",
      "Epoch: 2600, train_loss: 0.293014, test_loss: 0.272582 \n",
      "Epoch: 2800, train_loss: 0.291515, test_loss: 0.269507 \n",
      "Epoch: 3000, train_loss: 0.290114, test_loss: 0.266680 \n",
      "Epoch: 3200, train_loss: 0.288750, test_loss: 0.264382 \n",
      "Epoch: 3400, train_loss: 0.287259, test_loss: 0.261825 \n",
      "Epoch: 3600, train_loss: 0.286648, test_loss: 0.261163 \n",
      "Epoch: 3800, train_loss: 0.286648, test_loss: 0.261147 \n",
      "Epoch: 4000, train_loss: 0.286648, test_loss: 0.261151 \n",
      "Training Completed\n"
     ]
    }
   ],
   "source": [
    "from ImpactLearning import Regressor\n",
    "il_reg = Regressor()\n",
    "il_reg.fit(X_train,y_train, X_test, y_test, loss_function=\"MAE\", optimizer = \"GD\",)\n",
    "il_reg.train(epochs= 4000, lr=0.03, progress_per=200)"
   ]
  },
  {
   "cell_type": "code",
   "execution_count": 31,
   "metadata": {},
   "outputs": [
    {
     "name": "stdout",
     "output_type": "stream",
     "text": [
      "Epoch: 200, train_loss: 0.478514, test_loss: 0.477124 \n",
      "Epoch: 400, train_loss: 0.288345, test_loss: 0.264694 \n",
      "Epoch: 600, train_loss: 0.258590, test_loss: 0.230860 \n",
      "Epoch: 800, train_loss: 0.255242, test_loss: 0.228216 \n",
      "Epoch: 1000, train_loss: 0.254584, test_loss: 0.228418 \n",
      "Epoch: 1200, train_loss: 0.254429, test_loss: 0.228771 \n",
      "Epoch: 1400, train_loss: 0.254393, test_loss: 0.229001 \n",
      "Epoch: 1600, train_loss: 0.254384, test_loss: 0.229128 \n",
      "Epoch: 1800, train_loss: 0.254382, test_loss: 0.229195 \n",
      "Epoch: 2000, train_loss: 0.254381, test_loss: 0.229229 \n",
      "Epoch: 2200, train_loss: 0.254381, test_loss: 0.229246 \n",
      "Epoch: 2400, train_loss: 0.254381, test_loss: 0.229255 \n",
      "Epoch: 2600, train_loss: 0.254381, test_loss: 0.229259 \n",
      "Epoch: 2800, train_loss: 0.254381, test_loss: 0.229261 \n",
      "Epoch: 3000, train_loss: 0.254381, test_loss: 0.229262 \n",
      "Epoch: 3200, train_loss: 0.254381, test_loss: 0.229263 \n",
      "Epoch: 3400, train_loss: 0.254381, test_loss: 0.229263 \n",
      "Epoch: 3600, train_loss: 0.254381, test_loss: 0.229263 \n",
      "Epoch: 3800, train_loss: 0.254381, test_loss: 0.229263 \n",
      "Epoch: 4000, train_loss: 0.254381, test_loss: 0.229263 \n",
      "Training Completed\n"
     ]
    }
   ],
   "source": [
    "from ImpactLearning import Regressor\n",
    "il_reg = Regressor()\n",
    "il_reg.fit(X_train,y_train, X_test, y_test, loss_function=\"MSE\", optimizer = \"GD\",)\n",
    "il_reg.train(epochs=4000, lr=0.03, progress_per=200)"
   ]
  },
  {
   "cell_type": "code",
   "execution_count": null,
   "metadata": {},
   "outputs": [],
   "source": []
  }
 ],
 "metadata": {
  "kernelspec": {
   "display_name": "Python 3",
   "language": "python",
   "name": "python3"
  },
  "language_info": {
   "codemirror_mode": {
    "name": "ipython",
    "version": 3
   },
   "file_extension": ".py",
   "mimetype": "text/x-python",
   "name": "python",
   "nbconvert_exporter": "python",
   "pygments_lexer": "ipython3",
   "version": "3.7.4"
  }
 },
 "nbformat": 4,
 "nbformat_minor": 4
}
